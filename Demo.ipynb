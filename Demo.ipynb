{
 "cells": [
  {
   "cell_type": "code",
   "execution_count": 1,
   "metadata": {},
   "outputs": [],
   "source": [
    "import math\n",
    "import csv\n",
    "import time\n",
    "import requests\n",
    "\n",
    "from bs4 import BeautifulSoup\n",
    "\n",
    "from selenium import webdriver\n",
    "from selenium.webdriver import ActionChains\n",
    "from selenium.webdriver.common.keys import Keys\n",
    "from selenium.webdriver.common.by import By\n",
    "from selenium.webdriver.support.ui import WebDriverWait\n",
    "from selenium.webdriver.chrome.service import Service\n",
    "from selenium.webdriver.support import expected_conditions as EC\n",
    "from webdriver_manager.chrome import ChromeDriverManager\n"
   ]
  },
  {
   "cell_type": "markdown",
   "metadata": {},
   "source": [
    "Using bs4 to crawl data on static web.\n",
    "    - web tĩnh là web khi scan địa chỉ web toàn bộ nội dung web đã được thể hiện \n",
    "    - bs4 cho chép crawl data mà không cần mở cửa sổ trình duyệt lên, phù hợp với những web tĩnh\n",
    "\n",
    "Using selenium to crawl data on dynamic web\n",
    "    - web động là web khi phải mở trình duyệt lên qua một vài thao tác scroll down các thông tin lần lượt được load ra hoặc các hành động click ... tương tác trên web để hiện thêm thông tin.\n",
    "    - những web này nếu chỉ scan địa chỉ không lấy hết được nội dung\n",
    "    - dùng selenium để crawl vì selenium cho phép mở trình duyệt lên và run được mã javascript để thực hiện hành động tự động"
   ]
  },
  {
   "cell_type": "markdown",
   "metadata": {},
   "source": [
    "# Mẫu dùng CS4"
   ]
  },
  {
   "cell_type": "code",
   "execution_count": null,
   "metadata": {},
   "outputs": [],
   "source": [
    "urlpage = \"https://www.usatoday.com/story/news/world/2019/07/11/the-50-most-densely-populated-cities-in-the-world/39664259/\"\n",
    "response = requests.get(urlpage)\n",
    "soup = BeautifulSoup(response.content, \"html.parser\")\n",
    "\n",
    "listS = soup.find('div', class_=\"gnt_ar_b\")  # tìm thẻ div có class là gnt_ar_b\n",
    "raw_data = listS.find_all('strong')\n",
    "\n",
    "list_density = {\n",
    "    \"city\": \"\",\n",
    "    \"density\": \"\"\n",
    "}\n",
    "for item in raw_data:\n",
    "    print(item)"
   ]
  },
  {
   "cell_type": "markdown",
   "metadata": {},
   "source": [
    "# Mẫu dùng selenium"
   ]
  },
  {
   "cell_type": "code",
   "execution_count": 2,
   "metadata": {},
   "outputs": [
    {
     "name": "stderr",
     "output_type": "stream",
     "text": [
      "[WDM] - \n",
      "\n",
      "[WDM] - ====== WebDriver manager ======\n",
      "[WDM] - Current google-chrome version is 95.0.4638\n",
      "[WDM] - Get LATEST driver version for 95.0.4638\n",
      "[WDM] - Driver [C:\\Users\\dinhq\\.wdm\\drivers\\chromedriver\\win32\\95.0.4638.54\\chromedriver.exe] found in cache\n"
     ]
    },
    {
     "ename": "ElementNotInteractableException",
     "evalue": "Message: element not interactable\n  (Session info: chrome=95.0.4638.54)\nStacktrace:\nBacktrace:\n\tOrdinal0 [0x00A806F3+2492147]\n\tOrdinal0 [0x00A19BD1+2071505]\n\tOrdinal0 [0x00922340+1057600]\n\tOrdinal0 [0x00947FA3+1212323]\n\tOrdinal0 [0x009476EF+1210095]\n\tOrdinal0 [0x009657C3+1333187]\n\tOrdinal0 [0x00943466+1193062]\n\tOrdinal0 [0x009658AA+1333418]\n\tOrdinal0 [0x00974F38+1396536]\n\tOrdinal0 [0x0096568B+1332875]\n\tOrdinal0 [0x009421D4+1188308]\n\tOrdinal0 [0x0094302F+1191983]\n\tGetHandleVerifier [0x00C067A6+1545030]\n\tGetHandleVerifier [0x00CB105C+2243580]\n\tGetHandleVerifier [0x00B0BC97+518199]\n\tGetHandleVerifier [0x00B0AD80+514336]\n\tOrdinal0 [0x00A1ED2D+2092333]\n\tOrdinal0 [0x00A22EE8+2109160]\n\tOrdinal0 [0x00A23022+2109474]\n\tOrdinal0 [0x00A2CB71+2149233]\n\tBaseThreadInitThunk [0x7544FA29+25]\n\tRtlGetAppContainerNamedObjectPath [0x77557A9E+286]\n\tRtlGetAppContainerNamedObjectPath [0x77557A6E+238]\n",
     "output_type": "error",
     "traceback": [
      "\u001b[1;31m---------------------------------------------------------------------------\u001b[0m",
      "\u001b[1;31mElementNotInteractableException\u001b[0m           Traceback (most recent call last)",
      "\u001b[1;32m~\\AppData\\Local\\Temp/ipykernel_14420/4055016893.py\u001b[0m in \u001b[0;36m<module>\u001b[1;34m\u001b[0m\n\u001b[0;32m     13\u001b[0m \u001b[0mdriver\u001b[0m\u001b[1;33m.\u001b[0m\u001b[0mfind_element\u001b[0m\u001b[1;33m(\u001b[0m\u001b[0mBy\u001b[0m\u001b[1;33m.\u001b[0m\u001b[0mCSS_SELECTOR\u001b[0m\u001b[1;33m,\u001b[0m \u001b[1;34m\".ss-content .mt-4 .search-dropdown >div\"\u001b[0m\u001b[1;33m)\u001b[0m\u001b[1;33m.\u001b[0m\u001b[0mclick\u001b[0m\u001b[1;33m(\u001b[0m\u001b[1;33m)\u001b[0m\u001b[1;33m\u001b[0m\u001b[1;33m\u001b[0m\u001b[0m\n\u001b[0;32m     14\u001b[0m \u001b[1;33m\u001b[0m\u001b[0m\n\u001b[1;32m---> 15\u001b[1;33m \u001b[0mdriver\u001b[0m\u001b[1;33m.\u001b[0m\u001b[0mfind_element\u001b[0m\u001b[1;33m(\u001b[0m\u001b[0mBy\u001b[0m\u001b[1;33m.\u001b[0m\u001b[0mCLASS_NAME\u001b[0m\u001b[1;33m,\u001b[0m \u001b[1;34m\"search-input\"\u001b[0m\u001b[1;33m)\u001b[0m\u001b[1;33m.\u001b[0m\u001b[0msend_keys\u001b[0m\u001b[1;33m(\u001b[0m\u001b[1;34m\"Hà Nội\"\u001b[0m\u001b[1;33m)\u001b[0m\u001b[1;33m\u001b[0m\u001b[1;33m\u001b[0m\u001b[0m\n\u001b[0m\u001b[0;32m     16\u001b[0m \u001b[1;33m\u001b[0m\u001b[0m\n\u001b[0;32m     17\u001b[0m element = WebDriverWait(driver, 2).until(\n",
      "\u001b[1;32m~\\anaconda3\\envs\\DS_env\\lib\\site-packages\\selenium\\webdriver\\remote\\webelement.py\u001b[0m in \u001b[0;36msend_keys\u001b[1;34m(self, *value)\u001b[0m\n\u001b[0;32m    537\u001b[0m                 \u001b[0mvalue\u001b[0m \u001b[1;33m=\u001b[0m \u001b[1;34m'\\n'\u001b[0m\u001b[1;33m.\u001b[0m\u001b[0mjoin\u001b[0m\u001b[1;33m(\u001b[0m\u001b[0mremote_files\u001b[0m\u001b[1;33m)\u001b[0m\u001b[1;33m\u001b[0m\u001b[1;33m\u001b[0m\u001b[0m\n\u001b[0;32m    538\u001b[0m \u001b[1;33m\u001b[0m\u001b[0m\n\u001b[1;32m--> 539\u001b[1;33m         self._execute(Command.SEND_KEYS_TO_ELEMENT,\n\u001b[0m\u001b[0;32m    540\u001b[0m                       {'text': \"\".join(keys_to_typing(value)),\n\u001b[0;32m    541\u001b[0m                        'value': keys_to_typing(value)})\n",
      "\u001b[1;32m~\\anaconda3\\envs\\DS_env\\lib\\site-packages\\selenium\\webdriver\\remote\\webelement.py\u001b[0m in \u001b[0;36m_execute\u001b[1;34m(self, command, params)\u001b[0m\n\u001b[0;32m    691\u001b[0m             \u001b[0mparams\u001b[0m \u001b[1;33m=\u001b[0m \u001b[1;33m{\u001b[0m\u001b[1;33m}\u001b[0m\u001b[1;33m\u001b[0m\u001b[1;33m\u001b[0m\u001b[0m\n\u001b[0;32m    692\u001b[0m         \u001b[0mparams\u001b[0m\u001b[1;33m[\u001b[0m\u001b[1;34m'id'\u001b[0m\u001b[1;33m]\u001b[0m \u001b[1;33m=\u001b[0m \u001b[0mself\u001b[0m\u001b[1;33m.\u001b[0m\u001b[0m_id\u001b[0m\u001b[1;33m\u001b[0m\u001b[1;33m\u001b[0m\u001b[0m\n\u001b[1;32m--> 693\u001b[1;33m         \u001b[1;32mreturn\u001b[0m \u001b[0mself\u001b[0m\u001b[1;33m.\u001b[0m\u001b[0m_parent\u001b[0m\u001b[1;33m.\u001b[0m\u001b[0mexecute\u001b[0m\u001b[1;33m(\u001b[0m\u001b[0mcommand\u001b[0m\u001b[1;33m,\u001b[0m \u001b[0mparams\u001b[0m\u001b[1;33m)\u001b[0m\u001b[1;33m\u001b[0m\u001b[1;33m\u001b[0m\u001b[0m\n\u001b[0m\u001b[0;32m    694\u001b[0m \u001b[1;33m\u001b[0m\u001b[0m\n\u001b[0;32m    695\u001b[0m     \u001b[1;32mdef\u001b[0m \u001b[0mfind_element\u001b[0m\u001b[1;33m(\u001b[0m\u001b[0mself\u001b[0m\u001b[1;33m,\u001b[0m \u001b[0mby\u001b[0m\u001b[1;33m=\u001b[0m\u001b[0mBy\u001b[0m\u001b[1;33m.\u001b[0m\u001b[0mID\u001b[0m\u001b[1;33m,\u001b[0m \u001b[0mvalue\u001b[0m\u001b[1;33m=\u001b[0m\u001b[1;32mNone\u001b[0m\u001b[1;33m)\u001b[0m\u001b[1;33m:\u001b[0m\u001b[1;33m\u001b[0m\u001b[1;33m\u001b[0m\u001b[0m\n",
      "\u001b[1;32m~\\anaconda3\\envs\\DS_env\\lib\\site-packages\\selenium\\webdriver\\remote\\webdriver.py\u001b[0m in \u001b[0;36mexecute\u001b[1;34m(self, driver_command, params)\u001b[0m\n\u001b[0;32m    416\u001b[0m         \u001b[0mresponse\u001b[0m \u001b[1;33m=\u001b[0m \u001b[0mself\u001b[0m\u001b[1;33m.\u001b[0m\u001b[0mcommand_executor\u001b[0m\u001b[1;33m.\u001b[0m\u001b[0mexecute\u001b[0m\u001b[1;33m(\u001b[0m\u001b[0mdriver_command\u001b[0m\u001b[1;33m,\u001b[0m \u001b[0mparams\u001b[0m\u001b[1;33m)\u001b[0m\u001b[1;33m\u001b[0m\u001b[1;33m\u001b[0m\u001b[0m\n\u001b[0;32m    417\u001b[0m         \u001b[1;32mif\u001b[0m \u001b[0mresponse\u001b[0m\u001b[1;33m:\u001b[0m\u001b[1;33m\u001b[0m\u001b[1;33m\u001b[0m\u001b[0m\n\u001b[1;32m--> 418\u001b[1;33m             \u001b[0mself\u001b[0m\u001b[1;33m.\u001b[0m\u001b[0merror_handler\u001b[0m\u001b[1;33m.\u001b[0m\u001b[0mcheck_response\u001b[0m\u001b[1;33m(\u001b[0m\u001b[0mresponse\u001b[0m\u001b[1;33m)\u001b[0m\u001b[1;33m\u001b[0m\u001b[1;33m\u001b[0m\u001b[0m\n\u001b[0m\u001b[0;32m    419\u001b[0m             response['value'] = self._unwrap_value(\n\u001b[0;32m    420\u001b[0m                 response.get('value', None))\n",
      "\u001b[1;32m~\\anaconda3\\envs\\DS_env\\lib\\site-packages\\selenium\\webdriver\\remote\\errorhandler.py\u001b[0m in \u001b[0;36mcheck_response\u001b[1;34m(self, response)\u001b[0m\n\u001b[0;32m    241\u001b[0m                 \u001b[0malert_text\u001b[0m \u001b[1;33m=\u001b[0m \u001b[0mvalue\u001b[0m\u001b[1;33m[\u001b[0m\u001b[1;34m'alert'\u001b[0m\u001b[1;33m]\u001b[0m\u001b[1;33m.\u001b[0m\u001b[0mget\u001b[0m\u001b[1;33m(\u001b[0m\u001b[1;34m'text'\u001b[0m\u001b[1;33m)\u001b[0m\u001b[1;33m\u001b[0m\u001b[1;33m\u001b[0m\u001b[0m\n\u001b[0;32m    242\u001b[0m             \u001b[1;32mraise\u001b[0m \u001b[0mexception_class\u001b[0m\u001b[1;33m(\u001b[0m\u001b[0mmessage\u001b[0m\u001b[1;33m,\u001b[0m \u001b[0mscreen\u001b[0m\u001b[1;33m,\u001b[0m \u001b[0mstacktrace\u001b[0m\u001b[1;33m,\u001b[0m \u001b[0malert_text\u001b[0m\u001b[1;33m)\u001b[0m  \u001b[1;31m# type: ignore[call-arg]  # mypy is not smart enough here\u001b[0m\u001b[1;33m\u001b[0m\u001b[1;33m\u001b[0m\u001b[0m\n\u001b[1;32m--> 243\u001b[1;33m         \u001b[1;32mraise\u001b[0m \u001b[0mexception_class\u001b[0m\u001b[1;33m(\u001b[0m\u001b[0mmessage\u001b[0m\u001b[1;33m,\u001b[0m \u001b[0mscreen\u001b[0m\u001b[1;33m,\u001b[0m \u001b[0mstacktrace\u001b[0m\u001b[1;33m)\u001b[0m\u001b[1;33m\u001b[0m\u001b[1;33m\u001b[0m\u001b[0m\n\u001b[0m\u001b[0;32m    244\u001b[0m \u001b[1;33m\u001b[0m\u001b[0m\n\u001b[0;32m    245\u001b[0m     \u001b[1;32mdef\u001b[0m \u001b[0m_value_or_default\u001b[0m\u001b[1;33m(\u001b[0m\u001b[0mself\u001b[0m\u001b[1;33m,\u001b[0m \u001b[0mobj\u001b[0m\u001b[1;33m:\u001b[0m \u001b[0mMapping\u001b[0m\u001b[1;33m[\u001b[0m\u001b[0m_KT\u001b[0m\u001b[1;33m,\u001b[0m \u001b[0m_VT\u001b[0m\u001b[1;33m]\u001b[0m\u001b[1;33m,\u001b[0m \u001b[0mkey\u001b[0m\u001b[1;33m:\u001b[0m \u001b[0m_KT\u001b[0m\u001b[1;33m,\u001b[0m \u001b[0mdefault\u001b[0m\u001b[1;33m:\u001b[0m \u001b[0m_VT\u001b[0m\u001b[1;33m)\u001b[0m \u001b[1;33m->\u001b[0m \u001b[0m_VT\u001b[0m\u001b[1;33m:\u001b[0m\u001b[1;33m\u001b[0m\u001b[1;33m\u001b[0m\u001b[0m\n",
      "\u001b[1;31mElementNotInteractableException\u001b[0m: Message: element not interactable\n  (Session info: chrome=95.0.4638.54)\nStacktrace:\nBacktrace:\n\tOrdinal0 [0x00A806F3+2492147]\n\tOrdinal0 [0x00A19BD1+2071505]\n\tOrdinal0 [0x00922340+1057600]\n\tOrdinal0 [0x00947FA3+1212323]\n\tOrdinal0 [0x009476EF+1210095]\n\tOrdinal0 [0x009657C3+1333187]\n\tOrdinal0 [0x00943466+1193062]\n\tOrdinal0 [0x009658AA+1333418]\n\tOrdinal0 [0x00974F38+1396536]\n\tOrdinal0 [0x0096568B+1332875]\n\tOrdinal0 [0x009421D4+1188308]\n\tOrdinal0 [0x0094302F+1191983]\n\tGetHandleVerifier [0x00C067A6+1545030]\n\tGetHandleVerifier [0x00CB105C+2243580]\n\tGetHandleVerifier [0x00B0BC97+518199]\n\tGetHandleVerifier [0x00B0AD80+514336]\n\tOrdinal0 [0x00A1ED2D+2092333]\n\tOrdinal0 [0x00A22EE8+2109160]\n\tOrdinal0 [0x00A23022+2109474]\n\tOrdinal0 [0x00A2CB71+2149233]\n\tBaseThreadInitThunk [0x7544FA29+25]\n\tRtlGetAppContainerNamedObjectPath [0x77557A9E+286]\n\tRtlGetAppContainerNamedObjectPath [0x77557A6E+238]\n"
     ]
    }
   ],
   "source": [
    "s=Service(ChromeDriverManager().install())\n",
    "driver = webdriver.Chrome(service=s)\n",
    "driver.set_page_load_timeout(10)\n",
    "url = \"https://breezometer.com/air-quality-map/air-quality\"\n",
    "driver.get(url)\n",
    "\n",
    "driver.implicitly_wait(15)\n",
    "time.sleep(2)\n",
    "        \n",
    "driver.find_element(By.CSS_SELECTOR, \".aq-index-selection > div\").click()\n",
    "driver.find_element(By.CSS_SELECTOR, \".dropdown .body>div:nth-child(2)\").click()\n",
    "\n",
    "driver.find_element(By.CSS_SELECTOR, \".ss-content .mt-4 .search-dropdown >div\").click()\n",
    "\n",
    "driver.find_element(By.CLASS_NAME, \"search-input\").send_keys(\"Hà Nội\")\n",
    "\n",
    "# element = WebDriverWait(driver, 2).until(\n",
    "#     EC.presence_of_element_located((By.ID, \"vs1__option-1\"))\n",
    "# )\n",
    "\n",
    "# action = ActionChains(driver)\n",
    "# action.click(on_element=element)\n",
    "# action.perform()\n",
    "# time.sleep(1)  # dừng 1 giây để đợi data load tìm kiếm trên web\n",
    "\n",
    "list_pollutant = {\n",
    "    \"city\": \"Nam Định\",\n",
    "    \"AQI\": \"0\",\n",
    "    \"dominant_pollutant\": \"\",\n",
    "    \"O3\": \"0\",\n",
    "    \"SO2\": \"0\",\n",
    "    \"PM2.5\": \"0\",\n",
    "    \"PM10\": \"0\",\n",
    "    \"CO\": \"0\",\n",
    "    \"NO2\": \"0\",\n",
    "    \"NO\": \"0\",\n",
    "    \"NOX\": \"0\",\n",
    "    \"C6H6\": \"0\",\n",
    "    \"NMHC\": \"0\"\n",
    "}\n",
    "list_pollutant[\"AQI\"] = driver.find_element_by_css_selector(\".ss-content .current-aqi .aqi\").text\n",
    "# list_pollutant[\"dominant_pollutant\"] = driver.find_element_by_css_selector(\".ss-content .card .dominant-pollutant>p\").text\n",
    "\n",
    "driver.execute_script(\"document.getElementsByClassName('ss-content')[0].scrollTo(0,2000);\")\n",
    "\n",
    "time.sleep(2)\n",
    "\n",
    "results = driver.find_elements_by_css_selector(\".pollutant-wrapper\")\n",
    "\n",
    "for result in results:\n",
    "    pollutant = result.find_element_by_css_selector(\"div.name\").text.strip()\n",
    "    val = result.find_element_by_css_selector(\"div.concentration-value\").text.strip()\n",
    "    list_pollutant[pollutant] = val\n",
    "\n",
    "time.sleep(2)\n",
    "\n",
    "print(list_pollutant)\n",
    "print(\"Success\")\n"
   ]
  }
 ],
 "metadata": {
  "interpreter": {
   "hash": "95cb16282039a73f3219aafb42c9b4e425f176d47c52bd7dc6dd4554cb550350"
  },
  "kernelspec": {
   "display_name": "Python 3.9.7 64-bit ('DS_env': conda)",
   "name": "python3"
  },
  "language_info": {
   "codemirror_mode": {
    "name": "ipython",
    "version": 3
   },
   "file_extension": ".py",
   "mimetype": "text/x-python",
   "name": "python",
   "nbconvert_exporter": "python",
   "pygments_lexer": "ipython3",
   "version": "3.9.7"
  },
  "orig_nbformat": 4
 },
 "nbformat": 4,
 "nbformat_minor": 2
}
