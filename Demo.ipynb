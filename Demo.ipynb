{
 "cells": [
  {
   "cell_type": "code",
   "execution_count": 2,
   "metadata": {},
   "outputs": [],
   "source": [
    "import math\n",
    "import csv\n",
    "import time\n",
    "import requests\n",
    "\n",
    "from bs4 import BeautifulSoup\n",
    "\n",
    "from selenium import webdriver\n",
    "from selenium.webdriver import ActionChains\n",
    "from selenium.webdriver.common.keys import Keys\n",
    "from selenium.webdriver.common.by import By\n",
    "from selenium.webdriver.support.ui import WebDriverWait\n",
    "from selenium.webdriver.chrome.service import Service\n",
    "from selenium.webdriver.support import expected_conditions as EC\n",
    "from webdriver_manager.chrome import ChromeDriverManager\n"
   ]
  },
  {
   "cell_type": "markdown",
   "metadata": {},
   "source": [
    "Using bs4 to crawl data on static web.\n",
    "    - web tĩnh là web khi scan địa chỉ web toàn bộ nội dung web đã được thể hiện \n",
    "    - bs4 cho chép crawl data mà không cần mở cửa sổ trình duyệt lên, phù hợp với những web tĩnh\n",
    "\n",
    "Using selenium to crawl data on dynamic web\n",
    "    - web động là web khi phải mở trình duyệt lên qua một vài thao tác scroll down các thông tin lần lượt được load ra hoặc các hành động click ... tương tác trên web để hiện thêm thông tin.\n",
    "    - những web này nếu chỉ scan địa chỉ không lấy hết được nội dung\n",
    "    - dùng selenium để crawl vì selenium cho phép mở trình duyệt lên và run được mã javascript để thực hiện hành động tự động"
   ]
  },
  {
   "cell_type": "markdown",
   "metadata": {},
   "source": [
    "# Mẫu dùng CS4"
   ]
  },
  {
   "cell_type": "code",
   "execution_count": null,
   "metadata": {},
   "outputs": [],
   "source": [
    "urlpage = \"https://www.usatoday.com/story/news/world/2019/07/11/the-50-most-densely-populated-cities-in-the-world/39664259/\"\n",
    "response = requests.get(urlpage)\n",
    "soup = BeautifulSoup(response.content, \"html.parser\")\n",
    "\n",
    "listS = soup.find('div', class_=\"gnt_ar_b\")  # tìm thẻ div có class là gnt_ar_b\n",
    "raw_data = listS.find_all('strong')\n",
    "\n",
    "list_density = {\n",
    "    \"city\": \"\",\n",
    "    \"density\": \"\"\n",
    "}\n",
    "for item in raw_data:\n",
    "    print(item)"
   ]
  },
  {
   "cell_type": "markdown",
   "metadata": {},
   "source": [
    "# Mẫu dùng selenium"
   ]
  },
  {
   "cell_type": "code",
   "execution_count": 8,
   "metadata": {},
   "outputs": [
    {
     "name": "stderr",
     "output_type": "stream",
     "text": [
      "[WDM] - \n",
      "\n",
      "[WDM] - ====== WebDriver manager ======\n",
      "[WDM] - Current google-chrome version is 95.0.4638\n",
      "[WDM] - Get LATEST driver version for 95.0.4638\n",
      "[WDM] - Driver [C:\\Users\\dinhq\\.wdm\\drivers\\chromedriver\\win32\\95.0.4638.54\\chromedriver.exe] found in cache\n",
      "C:\\Users\\dinhq\\AppData\\Local\\Temp/ipykernel_10156/2798796342.py:48: DeprecationWarning: find_element_by_* commands are deprecated. Please use find_element() instead\n",
      "  list_pollutant[\"AQI\"] = driver.find_element_by_css_selector(\".ss-content .current-aqi .aqi\").text\n",
      "C:\\Users\\dinhq\\AppData\\Local\\Temp/ipykernel_10156/2798796342.py:55: DeprecationWarning: find_elements_by_* commands are deprecated. Please use find_elements() instead\n",
      "  results = driver.find_elements_by_css_selector(\".pollutant-wrapper\")\n",
      "C:\\Users\\dinhq\\anaconda3\\envs\\DS_env\\lib\\site-packages\\selenium\\webdriver\\remote\\webelement.py:483: UserWarning: find_element_by_* commands are deprecated. Please use find_element() instead\n",
      "  warnings.warn(\"find_element_by_* commands are deprecated. Please use find_element() instead\")\n"
     ]
    },
    {
     "name": "stdout",
     "output_type": "stream",
     "text": [
      "{'city': 'Nam Định', 'AQI': '84', 'dominant_pollutant': '', 'O3': '41', 'SO2': '5', 'PM2.5': '29', 'PM10': '29', 'CO': '235', 'NO2': '4', 'NO': '0', 'NOX': '0', 'C6H6': '0', 'NMHC': '0'}\n",
      "Success\n"
     ]
    }
   ],
   "source": [
    "s=Service(ChromeDriverManager().install())\n",
    "driver = webdriver.Chrome(service=s)\n",
    "driver.set_page_load_timeout(10)\n",
    "url = \"https://breezometer.com/air-quality-map/air-quality\"\n",
    "driver.get(url)\n",
    "\n",
    "driver.implicitly_wait(15)\n",
    "time.sleep(2)\n",
    "\n",
    "city_name = \"Nam Định\"\n",
    "        \n",
    "driver.find_element(By.CSS_SELECTOR, \".aq-index-selection > div\").click()\n",
    "driver.find_element(By.CSS_SELECTOR, \".dropdown .body>div:nth-child(2)\").click()\n",
    "\n",
    "driver.find_element(By.CSS_SELECTOR, \".ss-content .mt-4 .search-dropdown >div\").click()\n",
    "\n",
    "driver.find_elements(By.CLASS_NAME, \"search-input\")[2].clear()\n",
    "\n",
    "driver.find_elements(By.CLASS_NAME, \"search-input\")[2].send_keys(city_name)\n",
    "\n",
    "# element = WebDriverWait(driver, 2).until(\n",
    "#     EC.visibility_of_all_elements_located((By.CLASS_NAME, \".option__title\"))\n",
    "# )\n",
    "time.sleep(2)\n",
    "driver.find_elements(By.CLASS_NAME, \"option__title\")[1].click()\n",
    "\n",
    "\n",
    "# action = ActionChains(driver)\n",
    "# action.click(on_element=element)\n",
    "# action.perform()\n",
    "time.sleep(1)  # dừng 1 giây để đợi data load tìm kiếm trên web\n",
    "\n",
    "list_pollutant = {\n",
    "    \"city\": city_name,\n",
    "    \"AQI\": \"0\",\n",
    "    \"dominant_pollutant\": \"\",\n",
    "    \"O3\": \"0\",\n",
    "    \"SO2\": \"0\",\n",
    "    \"PM2.5\": \"0\",\n",
    "    \"PM10\": \"0\",\n",
    "    \"CO\": \"0\",\n",
    "    \"NO2\": \"0\",\n",
    "    \"NO\": \"0\",\n",
    "    \"NOX\": \"0\",\n",
    "    \"C6H6\": \"0\",\n",
    "    \"NMHC\": \"0\"\n",
    "}\n",
    "list_pollutant[\"AQI\"] = driver.find_element_by_css_selector(\".ss-content .current-aqi .aqi\").text\n",
    "# list_pollutant[\"dominant_pollutant\"] = driver.find_element_by_css_selector(\".ss-content .card .dominant-pollutant>p\").text\n",
    "\n",
    "driver.execute_script(\"document.getElementsByClassName('ss-content')[0].scrollTo(0,2000);\")\n",
    "\n",
    "time.sleep(2)\n",
    "\n",
    "results = driver.find_elements_by_css_selector(\".pollutant-wrapper\")\n",
    "\n",
    "for result in results:\n",
    "    pollutant = result.find_element_by_css_selector(\"div.name\").text.strip()\n",
    "    val = result.find_element_by_css_selector(\"div.concentration-value\").text.strip()\n",
    "    list_pollutant[pollutant] = val\n",
    "\n",
    "time.sleep(2)\n",
    "\n",
    "print(list_pollutant)\n",
    "print(\"Success\")\n",
    "driver.quit()\n"
   ]
  }
 ],
 "metadata": {
  "interpreter": {
   "hash": "95cb16282039a73f3219aafb42c9b4e425f176d47c52bd7dc6dd4554cb550350"
  },
  "kernelspec": {
   "display_name": "Python 3.9.7 64-bit ('DS_env': conda)",
   "name": "python3"
  },
  "language_info": {
   "codemirror_mode": {
    "name": "ipython",
    "version": 3
   },
   "file_extension": ".py",
   "mimetype": "text/x-python",
   "name": "python",
   "nbconvert_exporter": "python",
   "pygments_lexer": "ipython3",
   "version": "3.9.7"
  },
  "orig_nbformat": 4
 },
 "nbformat": 4,
 "nbformat_minor": 2
}
