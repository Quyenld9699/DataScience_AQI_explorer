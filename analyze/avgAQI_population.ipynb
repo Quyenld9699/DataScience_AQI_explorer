{
 "cells": [
  {
   "cell_type": "code",
   "execution_count": 61,
   "metadata": {},
   "outputs": [],
   "source": [
    "# Read AQI Data, calculate average AQI in a week\n",
    "# Read Population Data, Area Data, Make density \n",
    "import pandas as pd\n",
    "import numpy as np"
   ]
  },
  {
   "cell_type": "code",
   "execution_count": 62,
   "metadata": {},
   "outputs": [],
   "source": [
    "# Read AQ\n",
    "def average_AQI(file=''):\n",
    "    df = pd.read_csv(file)\n",
    "    df = df[['city','AQI']]\n",
    "    df_result = df.groupby('city').mean()\n",
    "    df_result.columns = ['avg_AQI']\n",
    "    return df_result\n",
    "# Read AQ\n",
    "def max_AQI(file=''):\n",
    "    df = pd.read_csv(file)\n",
    "    df = df[['city','AQI']]\n",
    "    df_result = df.groupby('city').max()\n",
    "    df_result.columns = ['max_AQI']\n",
    "    return df_result\n",
    "\n",
    "def min_AQI(file=''):\n",
    "    df = pd.read_csv(file)\n",
    "    df = df[['city','AQI']]\n",
    "    df_result = df.groupby('city').min()\n",
    "    df_result.columns = ['min_AQI']\n",
    "    return df_result"
   ]
  },
  {
   "cell_type": "code",
   "execution_count": 63,
   "metadata": {},
   "outputs": [
    {
     "name": "stdout",
     "output_type": "stream",
     "text": [
      "                       avg_AQI\n",
      "city                          \n",
      "Abeokuta             71.500000\n",
      "Abidjan              64.583333\n",
      "Abu Dhabi            84.512658\n",
      "Abuja                88.750000\n",
      "Acapulco de Juarez   70.546053\n",
      "...                        ...\n",
      "Zhaoqing             94.105263\n",
      "Zhengzhou           166.096386\n",
      "Zhenjiang Jiangsu   163.550633\n",
      "Zhoushan             52.955696\n",
      "Zurich               23.817610\n",
      "\n",
      "[711 rows x 1 columns]\n"
     ]
    }
   ],
   "source": [
    "df_avg_aqi = average_AQI('../ProcessedAQI/Final/aqi.csv')\n",
    "df_max_aqi = max_AQI('../ProcessedAQI/Final/aqi.csv')\n",
    "df_min_aqi = min_AQI('../ProcessedAQI/Final/aqi.csv')\n",
    "print(df_avg_aqi)"
   ]
  },
  {
   "cell_type": "code",
   "execution_count": 64,
   "metadata": {},
   "outputs": [
    {
     "data": {
      "text/html": [
       "<div>\n",
       "<style scoped>\n",
       "    .dataframe tbody tr th:only-of-type {\n",
       "        vertical-align: middle;\n",
       "    }\n",
       "\n",
       "    .dataframe tbody tr th {\n",
       "        vertical-align: top;\n",
       "    }\n",
       "\n",
       "    .dataframe thead th {\n",
       "        text-align: right;\n",
       "    }\n",
       "</style>\n",
       "<table border=\"1\" class=\"dataframe\">\n",
       "  <thead>\n",
       "    <tr style=\"text-align: right;\">\n",
       "      <th></th>\n",
       "      <th>avg_AQI</th>\n",
       "      <th>max_AQI</th>\n",
       "      <th>min_AQI</th>\n",
       "    </tr>\n",
       "    <tr>\n",
       "      <th>city</th>\n",
       "      <th></th>\n",
       "      <th></th>\n",
       "      <th></th>\n",
       "    </tr>\n",
       "  </thead>\n",
       "  <tbody>\n",
       "    <tr>\n",
       "      <th>Abeokuta</th>\n",
       "      <td>71.500000</td>\n",
       "      <td>91.0</td>\n",
       "      <td>36.0</td>\n",
       "    </tr>\n",
       "    <tr>\n",
       "      <th>Abidjan</th>\n",
       "      <td>64.583333</td>\n",
       "      <td>96.0</td>\n",
       "      <td>51.0</td>\n",
       "    </tr>\n",
       "    <tr>\n",
       "      <th>Abu Dhabi</th>\n",
       "      <td>84.512658</td>\n",
       "      <td>132.0</td>\n",
       "      <td>53.0</td>\n",
       "    </tr>\n",
       "    <tr>\n",
       "      <th>Abuja</th>\n",
       "      <td>88.750000</td>\n",
       "      <td>126.0</td>\n",
       "      <td>68.0</td>\n",
       "    </tr>\n",
       "    <tr>\n",
       "      <th>Acapulco de Juarez</th>\n",
       "      <td>70.546053</td>\n",
       "      <td>167.0</td>\n",
       "      <td>36.0</td>\n",
       "    </tr>\n",
       "    <tr>\n",
       "      <th>...</th>\n",
       "      <td>...</td>\n",
       "      <td>...</td>\n",
       "      <td>...</td>\n",
       "    </tr>\n",
       "    <tr>\n",
       "      <th>Zhaoqing</th>\n",
       "      <td>94.105263</td>\n",
       "      <td>131.0</td>\n",
       "      <td>55.0</td>\n",
       "    </tr>\n",
       "    <tr>\n",
       "      <th>Zhengzhou</th>\n",
       "      <td>166.096386</td>\n",
       "      <td>263.0</td>\n",
       "      <td>106.0</td>\n",
       "    </tr>\n",
       "    <tr>\n",
       "      <th>Zhenjiang Jiangsu</th>\n",
       "      <td>163.550633</td>\n",
       "      <td>192.0</td>\n",
       "      <td>130.0</td>\n",
       "    </tr>\n",
       "    <tr>\n",
       "      <th>Zhoushan</th>\n",
       "      <td>52.955696</td>\n",
       "      <td>101.0</td>\n",
       "      <td>24.0</td>\n",
       "    </tr>\n",
       "    <tr>\n",
       "      <th>Zurich</th>\n",
       "      <td>23.817610</td>\n",
       "      <td>44.0</td>\n",
       "      <td>13.0</td>\n",
       "    </tr>\n",
       "  </tbody>\n",
       "</table>\n",
       "<p>711 rows × 3 columns</p>\n",
       "</div>"
      ],
      "text/plain": [
       "                       avg_AQI  max_AQI  min_AQI\n",
       "city                                            \n",
       "Abeokuta             71.500000     91.0     36.0\n",
       "Abidjan              64.583333     96.0     51.0\n",
       "Abu Dhabi            84.512658    132.0     53.0\n",
       "Abuja                88.750000    126.0     68.0\n",
       "Acapulco de Juarez   70.546053    167.0     36.0\n",
       "...                        ...      ...      ...\n",
       "Zhaoqing             94.105263    131.0     55.0\n",
       "Zhengzhou           166.096386    263.0    106.0\n",
       "Zhenjiang Jiangsu   163.550633    192.0    130.0\n",
       "Zhoushan             52.955696    101.0     24.0\n",
       "Zurich               23.817610     44.0     13.0\n",
       "\n",
       "[711 rows x 3 columns]"
      ]
     },
     "execution_count": 64,
     "metadata": {},
     "output_type": "execute_result"
    }
   ],
   "source": [
    "df = pd.merge(df_avg_aqi, df_max_aqi, on=\"city\")\n",
    "df = pd.merge(df, df_min_aqi, on=\"city\")\n",
    "df_aqi = pd.DataFrame(df)\n",
    "df_aqi"
   ]
  },
  {
   "cell_type": "code",
   "execution_count": 65,
   "metadata": {},
   "outputs": [
    {
     "name": "stdout",
     "output_type": "stream",
     "text": [
      "avg_AQI    float64\n",
      "max_AQI    float64\n",
      "min_AQI    float64\n",
      "dtype: object\n"
     ]
    }
   ],
   "source": [
    "# Check type of each attribute\n",
    "print(df_aqi.dtypes)"
   ]
  },
  {
   "cell_type": "code",
   "execution_count": 66,
   "metadata": {},
   "outputs": [
    {
     "name": "stdout",
     "output_type": "stream",
     "text": [
      "AQI:\n",
      " avg_AQI    0\n",
      "max_AQI    0\n",
      "min_AQI    0\n",
      "dtype: int64\n"
     ]
    }
   ],
   "source": [
    "# Check if average,max,min AQI dataframe contains null value\n",
    "print(\"AQI:\\n\",df_aqi.isna().sum())\n"
   ]
  },
  {
   "cell_type": "code",
   "execution_count": 67,
   "metadata": {},
   "outputs": [],
   "source": [
    "# Read Population + Area to a DataFrame\n",
    "import pandasql as ps\n",
    "def population_area(population_path='',area_path=''):\n",
    "    df_population = pd.read_csv(population_path)\n",
    "    df_population = df_population[['Name','Population','Country']].drop_duplicates()\n",
    "    df_area = pd.read_csv(area_path)\n",
    "    df_area = df_area[['city','area']].drop_duplicates()\n",
    "    # print(len(df_area))\n",
    "    # print(len(df_population['Name'].unique()))\n",
    "    for index,row in df_area.iterrows():\n",
    "        row['area'] = row['area'].replace('.','')\n",
    "        row['area'] = float(row['area'])\n",
    "        # print(row['area'])\n",
    "    sql1 = \"SELECT df_area.city,df_population.population,df_population.Country,df_area.area, df_population.population*1.0/df_area.area as density FROM df_area,df_population  WHERE df_area.city == df_population.Name\"\n",
    "    df_result = ps.sqldf(sql1,locals())\n",
    "    return df_result\n"
   ]
  },
  {
   "cell_type": "code",
   "execution_count": 68,
   "metadata": {},
   "outputs": [
    {
     "name": "stdout",
     "output_type": "stream",
     "text": [
      "730\n"
     ]
    },
    {
     "data": {
      "text/plain": [
       "city           object\n",
       "Population      int64\n",
       "Country        object\n",
       "area          float64\n",
       "density       float64\n",
       "dtype: object"
      ]
     },
     "execution_count": 68,
     "metadata": {},
     "output_type": "execute_result"
    }
   ],
   "source": [
    "df_density = population_area('../data/population.csv','../data/area.csv')\n",
    "df_density = df_density.drop_duplicates()\n",
    "print(len(df_density['city'].unique()))\n",
    "# df_density.to_csv('./aqi_density.csv')\n",
    "df_density.dtypes\n"
   ]
  },
  {
   "cell_type": "code",
   "execution_count": 69,
   "metadata": {},
   "outputs": [
    {
     "data": {
      "text/plain": [
       "city          0\n",
       "Population    0\n",
       "Country       0\n",
       "area          0\n",
       "density       0\n",
       "dtype: int64"
      ]
     },
     "execution_count": 69,
     "metadata": {},
     "output_type": "execute_result"
    }
   ],
   "source": [
    "df_density.isna().sum()"
   ]
  },
  {
   "cell_type": "code",
   "execution_count": 70,
   "metadata": {},
   "outputs": [],
   "source": [
    "# Create AQI + Density DataFrame\n",
    "sql = 'SELECT df_aqi.city,Country,avg_AQI,max_AQI,min_AQI,Population,area,density FROM df_aqi,df_density WHERE df_aqi.city = df_density.city'\n",
    "df2_avg = ps.sqldf(sql,locals())\n",
    "df2 = df2_avg.drop_duplicates(subset='city', keep=\"first\")\n",
    "df2.to_csv('./aqi_density.csv')"
   ]
  },
  {
   "cell_type": "code",
   "execution_count": 71,
   "metadata": {},
   "outputs": [
    {
     "name": "stdout",
     "output_type": "stream",
     "text": [
      "            city        Country     avg_AQI  max_AQI  min_AQI  Population  \\\n",
      "0          Tokyo          Japan   59.913043    126.0     24.0    37339804   \n",
      "1          Delhi          India  205.879518    329.0     63.0    31181376   \n",
      "2       Shanghai          China  113.939759    212.0     56.0    27795702   \n",
      "3      Sao Paulo         Brazil   72.716867    212.0     54.0    22237472   \n",
      "4    Mexico City         Mexico  121.436364    222.0     54.0    21918936   \n",
      "..           ...            ...         ...      ...      ...         ...   \n",
      "712       Arusha       Tanzania   87.200000     98.0     66.0      504857   \n",
      "713       Murcia          Spain   31.592308     81.0     14.0      504491   \n",
      "714       Tirana        Albania   40.335821     87.0     15.0      502734   \n",
      "715  Surat Thani       Thailand   87.400000    154.0     30.0      502564   \n",
      "716  Kansas City  United States   55.637037    115.0     23.0      501957   \n",
      "\n",
      "        area       density  \n",
      "0     6276.0   5949.618228  \n",
      "1     1484.0  21011.708895  \n",
      "2     6340.0   4384.180126  \n",
      "3     1521.0  14620.297173  \n",
      "4     1485.0  14760.226263  \n",
      "..       ...           ...  \n",
      "712  37576.0     13.435624  \n",
      "713   8819.0     57.205012  \n",
      "714    418.0   1202.712919  \n",
      "715  12891.0     38.985649  \n",
      "716   8263.0     60.747549  \n",
      "\n",
      "[711 rows x 8 columns]\n",
      "city           object\n",
      "Country        object\n",
      "avg_AQI       float64\n",
      "max_AQI       float64\n",
      "min_AQI       float64\n",
      "Population      int64\n",
      "area          float64\n",
      "density       float64\n",
      "dtype: object\n"
     ]
    }
   ],
   "source": [
    "print(df2)\n",
    "print(df2.dtypes)"
   ]
  },
  {
   "cell_type": "code",
   "execution_count": 72,
   "metadata": {},
   "outputs": [
    {
     "name": "stdout",
     "output_type": "stream",
     "text": [
      "city             Abeokuta\n",
      "Country       Afghanistan\n",
      "avg_AQI              21.3\n",
      "max_AQI              26.0\n",
      "min_AQI               2.0\n",
      "Population         501957\n",
      "area                 19.0\n",
      "density          0.070537\n",
      "dtype: object\n",
      "city                Zurich\n",
      "Country           Zimbabwe\n",
      "avg_AQI         222.118012\n",
      "max_AQI              500.0\n",
      "min_AQI              181.0\n",
      "Population        37339804\n",
      "area            17130000.0\n",
      "density       85697.829596\n",
      "dtype: object\n"
     ]
    }
   ],
   "source": [
    "minvalue_series = df2.min(skipna = False)\n",
    "maxvalue_series = df2.max(skipna = False)\n",
    "print(minvalue_series)\n",
    "print(maxvalue_series)"
   ]
  },
  {
   "cell_type": "code",
   "execution_count": 73,
   "metadata": {},
   "outputs": [],
   "source": [
    "from sklearn.preprocessing import StandardScaler,MinMaxScaler\n",
    "df1 = df2.copy()\n",
    "# df2[['AQI','density']] = StandardScaler().fit_transform(df2[['AQI', 'density']])\n",
    "df1[['avg_AQI','max_AQI','min_AQI','density','Population']] = MinMaxScaler().fit_transform(df1[['avg_AQI','max_AQI','min_AQI', 'density','Population']])\n"
   ]
  },
  {
   "cell_type": "code",
   "execution_count": 74,
   "metadata": {},
   "outputs": [
    {
     "data": {
      "image/png": "[encoded data removed]",
      "text/plain": [
       "<Figure size 432x288 with 1 Axes>"
      ]
     },
     "metadata": {
      "needs_background": "light"
     },
     "output_type": "display_data"
    }
   ],
   "source": [
    "import matplotlib.pyplot as plt \n",
    "\n",
    "y = df2['density'].tolist()\n",
    "x = df2['avg_AQI'].tolist()\n",
    "plt.scatter(x,y)\n",
    "plt.ylabel('density')\n",
    "plt.xlabel('Average AQI')\n",
    "plt.show()"
   ]
  },
  {
   "cell_type": "code",
   "execution_count": 75,
   "metadata": {},
   "outputs": [
    {
     "data": {
      "text/plain": [
       "[]"
      ]
     },
     "execution_count": 75,
     "metadata": {},
     "output_type": "execute_result"
    },
    {
     "data": {
      "image/png": "[encoded data removed]",
      "text/plain": [
       "<Figure size 1440x576 with 3 Axes>"
      ]
     },
     "metadata": {
      "needs_background": "light"
     },
     "output_type": "display_data"
    }
   ],
   "source": [
    "#Set the size of the matplotlib canvas\n",
    "fig = plt.figure(figsize = (20,8))\n",
    "\n",
    "#### Subplot 1###\n",
    "\n",
    "plt.subplot(2,3,1)\n",
    "#Add titles to the chart and axes\n",
    "plt.title('Average AQI and Density relationship')\n",
    "plt.ylabel('AQI')\n",
    "plt.xlabel('Density (persons/km2)')\n",
    "x = df2['density'].tolist()\n",
    "y = df2['avg_AQI'].tolist()\n",
    "plt.scatter(x,y)\n",
    "\n",
    "#### Subplot 2 ###\n",
    "\n",
    "plt.subplot(2,3,2)\n",
    "#Add titles to the chart and axes\n",
    "plt.title('Max AQI and Density relationship')\n",
    "plt.ylabel('AQI')\n",
    "plt.xlabel('Density (persons/km2)')\n",
    "x = df2['density'].tolist()\n",
    "y = df2['max_AQI'].tolist()\n",
    "plt.scatter(x,y)\n",
    "\n",
    "#### Subplot 2 ###\n",
    "\n",
    "plt.subplot(2,3,3)\n",
    "#Add titles to the chart and axes\n",
    "plt.title('Min AQI and Density relationship')\n",
    "plt.ylabel('AQI')\n",
    "plt.xlabel('Density (persons/km2)')\n",
    "x = df2['density'].tolist()\n",
    "y = df2['min_AQI'].tolist()\n",
    "plt.scatter(x,y)\n",
    "\n",
    "\n",
    "plt.plot()\n",
    "\n"
   ]
  },
  {
   "cell_type": "code",
   "execution_count": 76,
   "metadata": {},
   "outputs": [
    {
     "data": {
      "text/plain": [
       "[]"
      ]
     },
     "execution_count": 76,
     "metadata": {},
     "output_type": "execute_result"
    },
    {
     "data": {
      "image/png": "[encoded data removed]",
      "text/plain": [
       "<Figure size 1440x576 with 3 Axes>"
      ]
     },
     "metadata": {
      "needs_background": "light"
     },
     "output_type": "display_data"
    }
   ],
   "source": [
    "#Set the size of the matplotlib canvas\n",
    "fig = plt.figure(figsize = (20,8))\n",
    "\n",
    "#### Subplot 1###\n",
    "\n",
    "plt.subplot(2,3,1)\n",
    "#Add titles to the chart and axes\n",
    "plt.title('Average AQI and Population relationship')\n",
    "plt.ylabel('AQI')\n",
    "plt.xlabel('Population (people)')\n",
    "x = df2['Population'].tolist()\n",
    "y = df2['avg_AQI'].tolist()\n",
    "plt.scatter(x,y)\n",
    "\n",
    "#### Subplot 2 ###\n",
    "\n",
    "plt.subplot(2,3,2)\n",
    "#Add titles to the chart and axes\n",
    "plt.title('Max AQI and Population relationship')\n",
    "plt.ylabel('AQI')\n",
    "plt.xlabel('Population (people)')\n",
    "x = df2['Population'].tolist()\n",
    "y = df2['max_AQI'].tolist()\n",
    "plt.scatter(x,y)\n",
    "\n",
    "#### Subplot 2 ###\n",
    "\n",
    "plt.subplot(2,3,3)\n",
    "#Add titles to the chart and axes\n",
    "plt.title('Min AQI and Population relationship')\n",
    "plt.ylabel('AQI')\n",
    "plt.xlabel('Population (people)')\n",
    "x = df2['Population'].tolist()\n",
    "y = df2['min_AQI'].tolist()\n",
    "plt.scatter(x,y)\n",
    "\n",
    "\n",
    "plt.plot()\n"
   ]
  },
  {
   "cell_type": "code",
   "execution_count": null,
   "metadata": {},
   "outputs": [],
   "source": []
  },
  {
   "cell_type": "code",
   "execution_count": 85,
   "metadata": {},
   "outputs": [
    {
     "name": "stdout",
     "output_type": "stream",
     "text": [
      "[[1.92278785e-01 6.94247756e-02]\n",
      " [9.19138258e-01 2.45183055e-01]\n",
      " [4.61312000e-01 5.11578090e-02]\n",
      " ...\n",
      " [9.47914018e-02 1.40335336e-02]\n",
      " [3.29153741e-01 4.54097189e-04]\n",
      " [1.70985842e-01 7.08034989e-04]]\n"
     ]
    }
   ],
   "source": [
    "from sklearn.cluster import KMeans\n",
    "\n",
    "X = df1[['avg_AQI','density']]\n",
    "X = X.to_numpy(dtype=float)\n",
    "print(X)\n",
    "kmean = KMeans(3,random_state=100).fit(X)"
   ]
  },
  {
   "cell_type": "code",
   "execution_count": 86,
   "metadata": {},
   "outputs": [],
   "source": [
    "# fig = plt.figure()\n",
    "# fig = plt.figure(figsize = (12, 8), dpi=80)\n",
    "# ax = fig.add_subplot(111, projection='3d')\n",
    "# pnt3d = ax.scatter3D(df3['AQI'],df3 ['Population'], df3['gdp'],c=kmean.labels_.astype(float))\n",
    "# cbar=plt.colorbar(pnt3d)\n",
    "# cbar.set_label(\"Grinding Volume (cm3)\")\n",
    "# fig.set_facecolor('white')\n",
    "# ax.set_facecolor('white')\n",
    "# # plt.xticks(np.arange(2018, 2021, 1))\n",
    "# # plt.yticks(np.arange(1,3,1))\n",
    "# ax.set_xlabel('AQI')\n",
    "# ax.set_ylabel('Population')\n",
    "# ax.set_zlabel('gdp')\n",
    "# plt.show()"
   ]
  },
  {
   "cell_type": "code",
   "execution_count": 87,
   "metadata": {},
   "outputs": [],
   "source": [
    "df_label = df2.copy()\n",
    "df_label['label'] = kmean.labels_"
   ]
  },
  {
   "cell_type": "code",
   "execution_count": 88,
   "metadata": {},
   "outputs": [
    {
     "data": {
      "image/png": "[encoded data removed]",
      "text/plain": [
       "<Figure size 432x288 with 1 Axes>"
      ]
     },
     "metadata": {
      "needs_background": "light"
     },
     "output_type": "display_data"
    }
   ],
   "source": [
    "import matplotlib.pyplot as plt \n",
    "\n",
    "y = df2['density'].tolist()\n",
    "x = df2['avg_AQI'].tolist()\n",
    "plt.scatter(x,y,c=df_label['label'])\n",
    "plt.ylabel('density')\n",
    "plt.xlabel('Average AQI')\n",
    "plt.show()"
   ]
  },
  {
   "cell_type": "code",
   "execution_count": 89,
   "metadata": {},
   "outputs": [
    {
     "ename": "KeyError",
     "evalue": "'AQI'",
     "output_type": "error",
     "traceback": [
      "\u001b[0;31m---------------------------------------------------------------------------\u001b[0m",
      "\u001b[0;31mKeyError\u001b[0m                                  Traceback (most recent call last)",
      "\u001b[0;32m/usr/local/lib/python3.9/site-packages/pandas/core/indexes/base.py\u001b[0m in \u001b[0;36mget_loc\u001b[0;34m(self, key, method, tolerance)\u001b[0m\n\u001b[1;32m   3360\u001b[0m             \u001b[0;32mtry\u001b[0m\u001b[0;34m:\u001b[0m\u001b[0;34m\u001b[0m\u001b[0;34m\u001b[0m\u001b[0m\n\u001b[0;32m-> 3361\u001b[0;31m                 \u001b[0;32mreturn\u001b[0m \u001b[0mself\u001b[0m\u001b[0;34m.\u001b[0m\u001b[0m_engine\u001b[0m\u001b[0;34m.\u001b[0m\u001b[0mget_loc\u001b[0m\u001b[0;34m(\u001b[0m\u001b[0mcasted_key\u001b[0m\u001b[0;34m)\u001b[0m\u001b[0;34m\u001b[0m\u001b[0;34m\u001b[0m\u001b[0m\n\u001b[0m\u001b[1;32m   3362\u001b[0m             \u001b[0;32mexcept\u001b[0m \u001b[0mKeyError\u001b[0m \u001b[0;32mas\u001b[0m \u001b[0merr\u001b[0m\u001b[0;34m:\u001b[0m\u001b[0;34m\u001b[0m\u001b[0;34m\u001b[0m\u001b[0m\n",
      "\u001b[0;32m/usr/local/lib/python3.9/site-packages/pandas/_libs/index.pyx\u001b[0m in \u001b[0;36mpandas._libs.index.IndexEngine.get_loc\u001b[0;34m()\u001b[0m\n",
      "\u001b[0;32m/usr/local/lib/python3.9/site-packages/pandas/_libs/index.pyx\u001b[0m in \u001b[0;36mpandas._libs.index.IndexEngine.get_loc\u001b[0;34m()\u001b[0m\n",
      "\u001b[0;32mpandas/_libs/hashtable_class_helper.pxi\u001b[0m in \u001b[0;36mpandas._libs.hashtable.PyObjectHashTable.get_item\u001b[0;34m()\u001b[0m\n",
      "\u001b[0;32mpandas/_libs/hashtable_class_helper.pxi\u001b[0m in \u001b[0;36mpandas._libs.hashtable.PyObjectHashTable.get_item\u001b[0;34m()\u001b[0m\n",
      "\u001b[0;31mKeyError\u001b[0m: 'AQI'",
      "\nThe above exception was the direct cause of the following exception:\n",
      "\u001b[0;31mKeyError\u001b[0m                                  Traceback (most recent call last)",
      "\u001b[0;32m/var/folders/sr/lt1xdrls5_98kvw_5_1t783c0000gn/T/ipykernel_1269/2615858650.py\u001b[0m in \u001b[0;36m<module>\u001b[0;34m\u001b[0m\n\u001b[1;32m      3\u001b[0m \u001b[0mminvalue_series\u001b[0m \u001b[0;34m=\u001b[0m \u001b[0mdf_g1\u001b[0m\u001b[0;34m.\u001b[0m\u001b[0mmin\u001b[0m\u001b[0;34m(\u001b[0m\u001b[0mskipna\u001b[0m \u001b[0;34m=\u001b[0m \u001b[0;32mFalse\u001b[0m\u001b[0;34m)\u001b[0m\u001b[0;34m\u001b[0m\u001b[0;34m\u001b[0m\u001b[0m\n\u001b[1;32m      4\u001b[0m \u001b[0mmaxvalue_series\u001b[0m \u001b[0;34m=\u001b[0m \u001b[0mdf_g1\u001b[0m\u001b[0;34m.\u001b[0m\u001b[0mmax\u001b[0m\u001b[0;34m(\u001b[0m\u001b[0mskipna\u001b[0m \u001b[0;34m=\u001b[0m \u001b[0;32mFalse\u001b[0m\u001b[0;34m)\u001b[0m\u001b[0;34m\u001b[0m\u001b[0;34m\u001b[0m\u001b[0m\n\u001b[0;32m----> 5\u001b[0;31m \u001b[0mprint\u001b[0m\u001b[0;34m(\u001b[0m\u001b[0;34m'AQI min: '\u001b[0m\u001b[0;34m,\u001b[0m\u001b[0mminvalue_series\u001b[0m\u001b[0;34m[\u001b[0m\u001b[0;34m'AQI'\u001b[0m\u001b[0;34m]\u001b[0m\u001b[0;34m)\u001b[0m\u001b[0;34m\u001b[0m\u001b[0;34m\u001b[0m\u001b[0m\n\u001b[0m\u001b[1;32m      6\u001b[0m \u001b[0mprint\u001b[0m\u001b[0;34m(\u001b[0m\u001b[0;34m'Population min: '\u001b[0m\u001b[0;34m,\u001b[0m\u001b[0mminvalue_series\u001b[0m\u001b[0;34m[\u001b[0m\u001b[0;34m'Population'\u001b[0m\u001b[0;34m]\u001b[0m\u001b[0;34m)\u001b[0m\u001b[0;34m\u001b[0m\u001b[0;34m\u001b[0m\u001b[0m\n\u001b[1;32m      7\u001b[0m \u001b[0mprint\u001b[0m\u001b[0;34m(\u001b[0m\u001b[0;34m'AQI max: '\u001b[0m\u001b[0;34m,\u001b[0m\u001b[0mmaxvalue_series\u001b[0m\u001b[0;34m[\u001b[0m\u001b[0;34m'AQI'\u001b[0m\u001b[0;34m]\u001b[0m\u001b[0;34m)\u001b[0m\u001b[0;34m\u001b[0m\u001b[0;34m\u001b[0m\u001b[0m\n",
      "\u001b[0;32m/usr/local/lib/python3.9/site-packages/pandas/core/series.py\u001b[0m in \u001b[0;36m__getitem__\u001b[0;34m(self, key)\u001b[0m\n\u001b[1;32m    940\u001b[0m \u001b[0;34m\u001b[0m\u001b[0m\n\u001b[1;32m    941\u001b[0m         \u001b[0;32melif\u001b[0m \u001b[0mkey_is_scalar\u001b[0m\u001b[0;34m:\u001b[0m\u001b[0;34m\u001b[0m\u001b[0;34m\u001b[0m\u001b[0m\n\u001b[0;32m--> 942\u001b[0;31m             \u001b[0;32mreturn\u001b[0m \u001b[0mself\u001b[0m\u001b[0;34m.\u001b[0m\u001b[0m_get_value\u001b[0m\u001b[0;34m(\u001b[0m\u001b[0mkey\u001b[0m\u001b[0;34m)\u001b[0m\u001b[0;34m\u001b[0m\u001b[0;34m\u001b[0m\u001b[0m\n\u001b[0m\u001b[1;32m    943\u001b[0m \u001b[0;34m\u001b[0m\u001b[0m\n\u001b[1;32m    944\u001b[0m         \u001b[0;32mif\u001b[0m \u001b[0mis_hashable\u001b[0m\u001b[0;34m(\u001b[0m\u001b[0mkey\u001b[0m\u001b[0;34m)\u001b[0m\u001b[0;34m:\u001b[0m\u001b[0;34m\u001b[0m\u001b[0;34m\u001b[0m\u001b[0m\n",
      "\u001b[0;32m/usr/local/lib/python3.9/site-packages/pandas/core/series.py\u001b[0m in \u001b[0;36m_get_value\u001b[0;34m(self, label, takeable)\u001b[0m\n\u001b[1;32m   1049\u001b[0m \u001b[0;34m\u001b[0m\u001b[0m\n\u001b[1;32m   1050\u001b[0m         \u001b[0;31m# Similar to Index.get_value, but we do not fall back to positional\u001b[0m\u001b[0;34m\u001b[0m\u001b[0;34m\u001b[0m\u001b[0m\n\u001b[0;32m-> 1051\u001b[0;31m         \u001b[0mloc\u001b[0m \u001b[0;34m=\u001b[0m \u001b[0mself\u001b[0m\u001b[0;34m.\u001b[0m\u001b[0mindex\u001b[0m\u001b[0;34m.\u001b[0m\u001b[0mget_loc\u001b[0m\u001b[0;34m(\u001b[0m\u001b[0mlabel\u001b[0m\u001b[0;34m)\u001b[0m\u001b[0;34m\u001b[0m\u001b[0;34m\u001b[0m\u001b[0m\n\u001b[0m\u001b[1;32m   1052\u001b[0m         \u001b[0;32mreturn\u001b[0m \u001b[0mself\u001b[0m\u001b[0;34m.\u001b[0m\u001b[0mindex\u001b[0m\u001b[0;34m.\u001b[0m\u001b[0m_get_values_for_loc\u001b[0m\u001b[0;34m(\u001b[0m\u001b[0mself\u001b[0m\u001b[0;34m,\u001b[0m \u001b[0mloc\u001b[0m\u001b[0;34m,\u001b[0m \u001b[0mlabel\u001b[0m\u001b[0;34m)\u001b[0m\u001b[0;34m\u001b[0m\u001b[0;34m\u001b[0m\u001b[0m\n\u001b[1;32m   1053\u001b[0m \u001b[0;34m\u001b[0m\u001b[0m\n",
      "\u001b[0;32m/usr/local/lib/python3.9/site-packages/pandas/core/indexes/base.py\u001b[0m in \u001b[0;36mget_loc\u001b[0;34m(self, key, method, tolerance)\u001b[0m\n\u001b[1;32m   3361\u001b[0m                 \u001b[0;32mreturn\u001b[0m \u001b[0mself\u001b[0m\u001b[0;34m.\u001b[0m\u001b[0m_engine\u001b[0m\u001b[0;34m.\u001b[0m\u001b[0mget_loc\u001b[0m\u001b[0;34m(\u001b[0m\u001b[0mcasted_key\u001b[0m\u001b[0;34m)\u001b[0m\u001b[0;34m\u001b[0m\u001b[0;34m\u001b[0m\u001b[0m\n\u001b[1;32m   3362\u001b[0m             \u001b[0;32mexcept\u001b[0m \u001b[0mKeyError\u001b[0m \u001b[0;32mas\u001b[0m \u001b[0merr\u001b[0m\u001b[0;34m:\u001b[0m\u001b[0;34m\u001b[0m\u001b[0;34m\u001b[0m\u001b[0m\n\u001b[0;32m-> 3363\u001b[0;31m                 \u001b[0;32mraise\u001b[0m \u001b[0mKeyError\u001b[0m\u001b[0;34m(\u001b[0m\u001b[0mkey\u001b[0m\u001b[0;34m)\u001b[0m \u001b[0;32mfrom\u001b[0m \u001b[0merr\u001b[0m\u001b[0;34m\u001b[0m\u001b[0;34m\u001b[0m\u001b[0m\n\u001b[0m\u001b[1;32m   3364\u001b[0m \u001b[0;34m\u001b[0m\u001b[0m\n\u001b[1;32m   3365\u001b[0m         \u001b[0;32mif\u001b[0m \u001b[0mis_scalar\u001b[0m\u001b[0;34m(\u001b[0m\u001b[0mkey\u001b[0m\u001b[0;34m)\u001b[0m \u001b[0;32mand\u001b[0m \u001b[0misna\u001b[0m\u001b[0;34m(\u001b[0m\u001b[0mkey\u001b[0m\u001b[0;34m)\u001b[0m \u001b[0;32mand\u001b[0m \u001b[0;32mnot\u001b[0m \u001b[0mself\u001b[0m\u001b[0;34m.\u001b[0m\u001b[0mhasnans\u001b[0m\u001b[0;34m:\u001b[0m\u001b[0;34m\u001b[0m\u001b[0;34m\u001b[0m\u001b[0m\n",
      "\u001b[0;31mKeyError\u001b[0m: 'AQI'"
     ]
    }
   ],
   "source": [
    "df_g1 = df_label[df_label['label']==1]\n",
    "df_g1['label'].min()\n",
    "minvalue_series = df_g1.min(skipna = False)\n",
    "maxvalue_series = df_g1.max(skipna = False)\n",
    "print('AQI min: ',minvalue_series['AQI'])\n",
    "print('Population min: ',minvalue_series['Population'])\n",
    "print('AQI max: ',maxvalue_series['AQI'])\n",
    "print('Population max: ',maxvalue_series['Population'])\n",
    "sql3 = \"SELECT Country, count(*) from df_g1 GROUP BY Country ORDER BY count(*) DESC\"\n",
    "s2 = ps.sqldf(sql3,locals())\n",
    "print(s2)"
   ]
  },
  {
   "cell_type": "code",
   "execution_count": null,
   "metadata": {},
   "outputs": [
    {
     "name": "stdout",
     "output_type": "stream",
     "text": [
      "AQI min:  59.91304347826087\n",
      "Density min:  4384.180126182965\n",
      "AQI max:  205.87951807228916\n",
      "Density max:  21011.708894878706\n",
      "  Country  count(*)\n",
      "0   Japan         1\n",
      "1   India         1\n",
      "2   China         1\n"
     ]
    }
   ],
   "source": [
    "df_g2 = df_label[df_label['label']==2]\n",
    "df_g2\n",
    "minvalue_series = df_g2.min(skipna = False)\n",
    "maxvalue_series = df_g2.max(skipna = False)\n",
    "print('AQI min: ',minvalue_series['AQI'])\n",
    "print('Density min: ',minvalue_series['density'])\n",
    "print('AQI max: ',maxvalue_series['AQI'])\n",
    "print('Density max: ',maxvalue_series['density']) \n",
    "sql3 = \"SELECT Country, count(*) from df_g2 GROUP BY Country ORDER BY count(*) DESC\"\n",
    "s2 = ps.sqldf(sql3,locals())\n",
    "print(s2)"
   ]
  },
  {
   "cell_type": "code",
   "execution_count": null,
   "metadata": {},
   "outputs": [
    {
     "name": "stdout",
     "output_type": "stream",
     "text": [
      "AQI min:  26.759036144578314\n",
      "Density min:  6.626666981154327\n",
      "AQI max:  182.18072289156626\n",
      "Density max:  83467.88571428572\n",
      "                  Country  count(*)\n",
      "0                   China        23\n",
      "1                   India        17\n",
      "2                  Brazil         9\n",
      "3               Indonesia         5\n",
      "4                Pakistan         4\n",
      "5                 Nigeria         4\n",
      "6           United States         3\n",
      "7             South Korea         3\n",
      "8            South Africa         3\n",
      "9                  Mexico         3\n",
      "10                  Japan         3\n",
      "11                  Italy         3\n",
      "12               Colombia         3\n",
      "13              Australia         3\n",
      "14              Venezuela         2\n",
      "15         United Kingdom         2\n",
      "16                 Turkey         2\n",
      "17                 Taiwan         2\n",
      "18                   Iran         2\n",
      "19                  Ghana         2\n",
      "20                 Canada         2\n",
      "21               Cameroon         2\n",
      "22                Vietnam         1\n",
      "23             Uzbekistan         1\n",
      "24   United Arab Emirates         1\n",
      "25                Ukraine         1\n",
      "26                 Uganda         1\n",
      "27                  Syria         1\n",
      "28                Somalia         1\n",
      "29                Senegal         1\n",
      "30           Saudi Arabia         1\n",
      "31  Republic of the Congo         1\n",
      "32               Portugal         1\n",
      "33               Paraguay         1\n",
      "34            North Korea         1\n",
      "35                   Mali         1\n",
      "36             Madagascar         1\n",
      "37                Lebanon         1\n",
      "38                 Kuwait         1\n",
      "39                  Kenya         1\n",
      "40                 Jordan         1\n",
      "41                 Israel         1\n",
      "42                  Haiti         1\n",
      "43              Guatemala         1\n",
      "44                 Greece         1\n",
      "45                Germany         1\n",
      "46               Ethiopia         1\n",
      "47                Ecuador         1\n",
      "48     Dominican Republic         1\n",
      "49               DR Congo         1\n",
      "50               Cambodia         1\n",
      "51           Burkina Faso         1\n",
      "52             Bangladesh         1\n",
      "53             Azerbaijan         1\n",
      "54                Algeria         1\n",
      "55            Afghanistan         1\n"
     ]
    }
   ],
   "source": [
    "df_g3 = df_label[df_label['label']==3]\n",
    "df_g3\n",
    "minvalue_series = df_g3.min(skipna = False)\n",
    "maxvalue_series = df_g3.max(skipna = False)\n",
    "print('AQI min: ',minvalue_series['AQI'])\n",
    "print('Density min: ',minvalue_series['density'])\n",
    "print('AQI max: ',maxvalue_series['AQI'])\n",
    "print('Density max: ',maxvalue_series['density'])\n",
    "sql3 = \"SELECT Country, count(*) from df_g3 GROUP BY Country ORDER BY count(*) DESC\"\n",
    "s2 = ps.sqldf(sql3,locals())\n",
    "print(s2)"
   ]
  },
  {
   "cell_type": "code",
   "execution_count": null,
   "metadata": {},
   "outputs": [
    {
     "name": "stdout",
     "output_type": "stream",
     "text": [
      "AQI min:  32.19277108433735\n",
      "Density min:  122.9825695334288\n",
      "AQI max:  184.1939393939394\n",
      "Density max:  76388.2831858407\n",
      "           Country  count(*)\n",
      "0            China        12\n",
      "1            India         3\n",
      "2            Spain         2\n",
      "3            Japan         2\n",
      "4          Vietnam         1\n",
      "5    United States         1\n",
      "6   United Kingdom         1\n",
      "7         Tanzania         1\n",
      "8            Sudan         1\n",
      "9      South Korea         1\n",
      "10    South Africa         1\n",
      "11       Singapore         1\n",
      "12    Saudi Arabia         1\n",
      "13          Russia         1\n",
      "14         Myanmar         1\n",
      "15          Mexico         1\n",
      "16        Malaysia         1\n",
      "17     Ivory Coast         1\n",
      "18            Iraq         1\n",
      "19            Iran         1\n",
      "20       Hong Kong         1\n",
      "21           Egypt         1\n",
      "22          Canada         1\n",
      "23          Brazil         1\n",
      "24          Angola         1\n"
     ]
    }
   ],
   "source": [
    "df_g3 = df_label[df_label['label']==4]\n",
    "df_g3\n",
    "minvalue_series = df_g3.min(skipna = False)\n",
    "maxvalue_series = df_g3.max(skipna = False)\n",
    "print('AQI min: ',minvalue_series['AQI'])\n",
    "print('Density min: ',minvalue_series['density'])\n",
    "print('AQI max: ',maxvalue_series['AQI'])\n",
    "print('Density max: ',maxvalue_series['density'])\n",
    "sql3 = \"SELECT Country, count(*) from df_g3 GROUP BY Country ORDER BY count(*) DESC\"\n",
    "s2 = ps.sqldf(sql3,locals())\n",
    "print(s2)"
   ]
  },
  {
   "cell_type": "code",
   "execution_count": null,
   "metadata": {},
   "outputs": [
    {
     "name": "stdout",
     "output_type": "stream",
     "text": [
      "AQI min:  49.88414634146341\n",
      "Density min:  1273.3422704283712\n",
      "AQI max:  168.9939024390244\n",
      "Density max:  85697.82959641256\n",
      "      Country  count(*)\n",
      "0      Mexico         1\n",
      "1       Japan         1\n",
      "2       India         1\n",
      "3       Egypt         1\n",
      "4       China         1\n",
      "5      Brazil         1\n",
      "6  Bangladesh         1\n"
     ]
    }
   ],
   "source": [
    "df_g3 = df_label[df_label['label']==5]\n",
    "df_g3\n",
    "minvalue_series = df_g3.min(skipna = False)\n",
    "maxvalue_series = df_g3.max(skipna = False)\n",
    "print('AQI min: ',minvalue_series['AQI'])\n",
    "print('Density min: ',minvalue_series['density'])\n",
    "print('AQI max: ',maxvalue_series['AQI'])\n",
    "print('Density max: ',maxvalue_series['density'])\n",
    "sql3 = \"SELECT Country, count(*) from df_g3 GROUP BY Country ORDER BY count(*) DESC\"\n",
    "s2 = ps.sqldf(sql3,locals())\n",
    "print(s2)"
   ]
  },
  {
   "cell_type": "code",
   "execution_count": null,
   "metadata": {},
   "outputs": [],
   "source": [
    "# Read Traffic index by COuntry\n",
    "def read_traffic(path=''):\n",
    "    df = pd.read_csv(path)\n",
    "    return df"
   ]
  },
  {
   "cell_type": "code",
   "execution_count": null,
   "metadata": {},
   "outputs": [
    {
     "data": {
      "text/html": [
       "<div>\n",
       "<style scoped>\n",
       "    .dataframe tbody tr th:only-of-type {\n",
       "        vertical-align: middle;\n",
       "    }\n",
       "\n",
       "    .dataframe tbody tr th {\n",
       "        vertical-align: top;\n",
       "    }\n",
       "\n",
       "    .dataframe thead th {\n",
       "        text-align: right;\n",
       "    }\n",
       "</style>\n",
       "<table border=\"1\" class=\"dataframe\">\n",
       "  <thead>\n",
       "    <tr style=\"text-align: right;\">\n",
       "      <th></th>\n",
       "      <th>country</th>\n",
       "      <th>traffic index</th>\n",
       "      <th>co2 emission index</th>\n",
       "    </tr>\n",
       "  </thead>\n",
       "  <tbody>\n",
       "    <tr>\n",
       "      <th>0</th>\n",
       "      <td>Nigeria</td>\n",
       "      <td>307.47</td>\n",
       "      <td>7925.70</td>\n",
       "    </tr>\n",
       "    <tr>\n",
       "      <th>1</th>\n",
       "      <td>Costa Rica</td>\n",
       "      <td>300.05</td>\n",
       "      <td>9028.50</td>\n",
       "    </tr>\n",
       "    <tr>\n",
       "      <th>2</th>\n",
       "      <td>Sri Lanka</td>\n",
       "      <td>272.63</td>\n",
       "      <td>7417.02</td>\n",
       "    </tr>\n",
       "    <tr>\n",
       "      <th>3</th>\n",
       "      <td>Kenya</td>\n",
       "      <td>271.87</td>\n",
       "      <td>8106.21</td>\n",
       "    </tr>\n",
       "    <tr>\n",
       "      <th>4</th>\n",
       "      <td>Bangladesh</td>\n",
       "      <td>258.31</td>\n",
       "      <td>5065.06</td>\n",
       "    </tr>\n",
       "    <tr>\n",
       "      <th>...</th>\n",
       "      <td>...</td>\n",
       "      <td>...</td>\n",
       "      <td>...</td>\n",
       "    </tr>\n",
       "    <tr>\n",
       "      <th>80</th>\n",
       "      <td>Bosnia And Herzegovina</td>\n",
       "      <td>89.54</td>\n",
       "      <td>2521.34</td>\n",
       "    </tr>\n",
       "    <tr>\n",
       "      <th>81</th>\n",
       "      <td>Finland</td>\n",
       "      <td>88.60</td>\n",
       "      <td>1811.54</td>\n",
       "    </tr>\n",
       "    <tr>\n",
       "      <th>82</th>\n",
       "      <td>Denmark</td>\n",
       "      <td>88.37</td>\n",
       "      <td>1654.14</td>\n",
       "    </tr>\n",
       "    <tr>\n",
       "      <th>83</th>\n",
       "      <td>Estonia</td>\n",
       "      <td>85.39</td>\n",
       "      <td>2118.77</td>\n",
       "    </tr>\n",
       "    <tr>\n",
       "      <th>84</th>\n",
       "      <td>Austria</td>\n",
       "      <td>79.85</td>\n",
       "      <td>1637.27</td>\n",
       "    </tr>\n",
       "  </tbody>\n",
       "</table>\n",
       "<p>85 rows × 3 columns</p>\n",
       "</div>"
      ],
      "text/plain": [
       "                   country  traffic index  co2 emission index\n",
       "0                  Nigeria         307.47             7925.70\n",
       "1               Costa Rica         300.05             9028.50\n",
       "2                Sri Lanka         272.63             7417.02\n",
       "3                    Kenya         271.87             8106.21\n",
       "4               Bangladesh         258.31             5065.06\n",
       "..                     ...            ...                 ...\n",
       "80  Bosnia And Herzegovina          89.54             2521.34\n",
       "81                 Finland          88.60             1811.54\n",
       "82                 Denmark          88.37             1654.14\n",
       "83                 Estonia          85.39             2118.77\n",
       "84                 Austria          79.85             1637.27\n",
       "\n",
       "[85 rows x 3 columns]"
      ]
     },
     "execution_count": 240,
     "metadata": {},
     "output_type": "execute_result"
    }
   ],
   "source": [
    "df_traffic = read_traffic(path='../vehicle-density/CSV_file_data/vehicle-density.csv')\n",
    "df_traffic"
   ]
  },
  {
   "cell_type": "code",
   "execution_count": null,
   "metadata": {},
   "outputs": [
    {
     "name": "stdout",
     "output_type": "stream",
     "text": [
      "134\n"
     ]
    }
   ],
   "source": [
    "print(len(df_label['Country'].unique()))"
   ]
  },
  {
   "cell_type": "markdown",
   "metadata": {},
   "source": []
  }
 ],
 "metadata": {
  "interpreter": {
   "hash": "aee8b7b246df8f9039afb4144a1f6fd8d2ca17a180786b69acc140d282b71a49"
  },
  "kernelspec": {
   "display_name": "Python 3.9.7 64-bit",
   "language": "python",
   "name": "python3"
  },
  "language_info": {
   "codemirror_mode": {
    "name": "ipython",
    "version": 3
   },
   "file_extension": ".py",
   "mimetype": "text/x-python",
   "name": "python",
   "nbconvert_exporter": "python",
   "pygments_lexer": "ipython3",
   "version": "3.9.7"
  },
  "orig_nbformat": 4
 },
 "nbformat": 4,
 "nbformat_minor": 2
}
