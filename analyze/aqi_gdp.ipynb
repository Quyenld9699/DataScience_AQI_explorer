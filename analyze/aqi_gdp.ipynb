{
 "cells": [
  {
   "cell_type": "code",
   "execution_count": 62,
   "metadata": {},
   "outputs": [],
   "source": [
    "# Read AQI Data, calculate average AQI in a week\n",
    "# Read Population Data, Area Data, Make density \n",
    "import pandas as pd\n",
    "import numpy as np\n",
    "import matplotlib.pyplot as plt\n"
   ]
  },
  {
   "cell_type": "code",
   "execution_count": 106,
   "metadata": {},
   "outputs": [
    {
     "name": "stdout",
     "output_type": "stream",
     "text": [
      "                             city     gdp  year\n",
      "0         Aachen-Liège-Maastricht     NaN   NaN\n",
      "1    Abbotsford, British Columbia   5.313  2016\n",
      "2                        Aberdeen  16.986  2013\n",
      "3                         Abidjan      27  2017\n",
      "4                       Abu Dhabi     119   NaN\n",
      "..                            ...     ...   ...\n",
      "405                        Zhuhai    38.0  2017\n",
      "406                          Zibo    70.8  2017\n",
      "407                        Zürich     NaN   NaN\n",
      "408                          city     gdp  year\n",
      "409                          city     gdp  year\n",
      "\n",
      "[410 rows x 3 columns]\n",
      "city    object\n",
      "gdp     object\n",
      "year    object\n",
      "dtype: object\n"
     ]
    }
   ],
   "source": [
    "df_gdp= pd.read_csv('../get_gdp/city_gdp.csv')\n",
    "# df_gdp = df_temperature[['city','country','oct','nov','dec']]\n",
    "print(df_gdp)\n",
    "print(df_gdp.dtypes)\n",
    "df_gdp = df_gdp.dropna()\n",
    "df_gdp = df_gdp.drop([408,409])"
   ]
  },
  {
   "cell_type": "code",
   "execution_count": 107,
   "metadata": {},
   "outputs": [],
   "source": [
    "from unidecode import unidecode\n",
    "def remove_non_ascii(text):\n",
    "    return unidecode(unidecode(text))\n",
    "import re\n",
    "def format_ascii_string(input=''):\n",
    "    output = re.sub(r'[^\\x00-\\x7f]',' ', input)\n",
    "    return output\n",
    "\n",
    "\n",
    "df_gdp['city'] = df_gdp['city'].map(lambda x: remove_non_ascii(x))\n",
    "# Convert Datatype of Temperature to Float\n",
    "df_gdp['gdp'] = df_gdp['gdp'].map(lambda x: float(x))"
   ]
  },
  {
   "cell_type": "code",
   "execution_count": 109,
   "metadata": {},
   "outputs": [
    {
     "data": {
      "image/png": "[encoded data removed]",
      "text/plain": [
       "<Figure size 432x288 with 1 Axes>"
      ]
     },
     "metadata": {
      "needs_background": "light"
     },
     "output_type": "display_data"
    }
   ],
   "source": [
    "import matplotlib.pyplot as plt \n",
    "\n",
    "y = df_gdp['city'].tolist()\n",
    "x = df_gdp['gdp'].tolist()\n",
    "plt.hist(x,bins=50)\n",
    "plt.ylabel('Number of Countries')\n",
    "plt.xlabel('GDP (billion $)')\n",
    "plt.show()"
   ]
  },
  {
   "cell_type": "code",
   "execution_count": 111,
   "metadata": {},
   "outputs": [],
   "source": [
    "import pandasql as ps\n",
    "sql = 'SELECT * from df_aqi_1 JOIN df_gdp ON df_aqi_1.city = df_gdp.city'\n",
    "df_result = ps.sqldf(sql,locals())"
   ]
  },
  {
   "cell_type": "code",
   "execution_count": 84,
   "metadata": {},
   "outputs": [
    {
     "data": {
      "text/html": [
       "<div>\n",
       "<style scoped>\n",
       "    .dataframe tbody tr th:only-of-type {\n",
       "        vertical-align: middle;\n",
       "    }\n",
       "\n",
       "    .dataframe tbody tr th {\n",
       "        vertical-align: top;\n",
       "    }\n",
       "\n",
       "    .dataframe thead th {\n",
       "        text-align: right;\n",
       "    }\n",
       "</style>\n",
       "<table border=\"1\" class=\"dataframe\">\n",
       "  <thead>\n",
       "    <tr style=\"text-align: right;\">\n",
       "      <th></th>\n",
       "      <th>city</th>\n",
       "      <th>AQI</th>\n",
       "      <th>city</th>\n",
       "      <th>gdp</th>\n",
       "      <th>year</th>\n",
       "    </tr>\n",
       "  </thead>\n",
       "  <tbody>\n",
       "    <tr>\n",
       "      <th>0</th>\n",
       "      <td>Abidjan</td>\n",
       "      <td>64.583333</td>\n",
       "      <td>Abidjan</td>\n",
       "      <td>27.000</td>\n",
       "      <td>2017</td>\n",
       "    </tr>\n",
       "    <tr>\n",
       "      <th>1</th>\n",
       "      <td>Adelaide</td>\n",
       "      <td>40.937500</td>\n",
       "      <td>Adelaide</td>\n",
       "      <td>64.461</td>\n",
       "      <td>2018–19</td>\n",
       "    </tr>\n",
       "    <tr>\n",
       "      <th>2</th>\n",
       "      <td>Ahmedabad</td>\n",
       "      <td>158.454545</td>\n",
       "      <td>Ahmedabad</td>\n",
       "      <td>59.000</td>\n",
       "      <td>2017</td>\n",
       "    </tr>\n",
       "    <tr>\n",
       "      <th>3</th>\n",
       "      <td>Albuquerque</td>\n",
       "      <td>62.913669</td>\n",
       "      <td>Albuquerque</td>\n",
       "      <td>42.896</td>\n",
       "      <td>2018</td>\n",
       "    </tr>\n",
       "    <tr>\n",
       "      <th>4</th>\n",
       "      <td>Almaty</td>\n",
       "      <td>63.750000</td>\n",
       "      <td>Almaty</td>\n",
       "      <td>36.000</td>\n",
       "      <td>2010</td>\n",
       "    </tr>\n",
       "    <tr>\n",
       "      <th>...</th>\n",
       "      <td>...</td>\n",
       "      <td>...</td>\n",
       "      <td>...</td>\n",
       "      <td>...</td>\n",
       "      <td>...</td>\n",
       "    </tr>\n",
       "    <tr>\n",
       "      <th>196</th>\n",
       "      <td>Xiamen</td>\n",
       "      <td>135.182927</td>\n",
       "      <td>Xiamen</td>\n",
       "      <td>92.554</td>\n",
       "      <td>2020</td>\n",
       "    </tr>\n",
       "    <tr>\n",
       "      <th>197</th>\n",
       "      <td>Xuzhou</td>\n",
       "      <td>119.319277</td>\n",
       "      <td>Xuzhou</td>\n",
       "      <td>97.800</td>\n",
       "      <td>2017</td>\n",
       "    </tr>\n",
       "    <tr>\n",
       "      <th>198</th>\n",
       "      <td>Yantai</td>\n",
       "      <td>96.024242</td>\n",
       "      <td>Yantai</td>\n",
       "      <td>108.700</td>\n",
       "      <td>2017</td>\n",
       "    </tr>\n",
       "    <tr>\n",
       "      <th>199</th>\n",
       "      <td>Yerevan</td>\n",
       "      <td>191.935065</td>\n",
       "      <td>Yerevan</td>\n",
       "      <td>5.230</td>\n",
       "      <td>2018</td>\n",
       "    </tr>\n",
       "    <tr>\n",
       "      <th>200</th>\n",
       "      <td>Zhengzhou</td>\n",
       "      <td>166.096386</td>\n",
       "      <td>Zhengzhou</td>\n",
       "      <td>144.000</td>\n",
       "      <td>2018</td>\n",
       "    </tr>\n",
       "  </tbody>\n",
       "</table>\n",
       "<p>201 rows × 5 columns</p>\n",
       "</div>"
      ],
      "text/plain": [
       "            city         AQI         city      gdp     year\n",
       "0        Abidjan   64.583333      Abidjan   27.000     2017\n",
       "1       Adelaide   40.937500     Adelaide   64.461  2018–19\n",
       "2      Ahmedabad  158.454545    Ahmedabad   59.000     2017\n",
       "3    Albuquerque   62.913669  Albuquerque   42.896     2018\n",
       "4         Almaty   63.750000       Almaty   36.000     2010\n",
       "..           ...         ...          ...      ...      ...\n",
       "196       Xiamen  135.182927       Xiamen   92.554     2020\n",
       "197       Xuzhou  119.319277       Xuzhou   97.800     2017\n",
       "198       Yantai   96.024242       Yantai  108.700     2017\n",
       "199      Yerevan  191.935065      Yerevan    5.230     2018\n",
       "200    Zhengzhou  166.096386    Zhengzhou  144.000     2018\n",
       "\n",
       "[201 rows x 5 columns]"
      ]
     },
     "execution_count": 84,
     "metadata": {},
     "output_type": "execute_result"
    }
   ],
   "source": [
    "df_result"
   ]
  },
  {
   "cell_type": "code",
   "execution_count": 112,
   "metadata": {},
   "outputs": [
    {
     "data": {
      "image/png": "[encoded data removed]",
      "text/plain": [
       "<Figure size 432x288 with 1 Axes>"
      ]
     },
     "metadata": {
      "needs_background": "light"
     },
     "output_type": "display_data"
    }
   ],
   "source": [
    "import matplotlib.pyplot as plt \n",
    "\n",
    "x = df_result['AQI'].tolist()\n",
    "y = df_result['gdp'].tolist()\n",
    "plt.scatter(x,y)\n",
    "plt.ylabel('GDP (billion $)')\n",
    "plt.xlabel('AQI')\n",
    "\n",
    "plt.show()"
   ]
  }
 ],
 "metadata": {
  "interpreter": {
   "hash": "aee8b7b246df8f9039afb4144a1f6fd8d2ca17a180786b69acc140d282b71a49"
  },
  "kernelspec": {
   "display_name": "Python 3.9.7 64-bit",
   "language": "python",
   "name": "python3"
  },
  "language_info": {
   "codemirror_mode": {
    "name": "ipython",
    "version": 3
   },
   "file_extension": ".py",
   "mimetype": "text/x-python",
   "name": "python",
   "nbconvert_exporter": "python",
   "pygments_lexer": "ipython3",
   "version": "3.9.7"
  },
  "orig_nbformat": 4
 },
 "nbformat": 4,
 "nbformat_minor": 2
}
