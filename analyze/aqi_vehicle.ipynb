{
 "cells": [
  {
   "cell_type": "code",
   "execution_count": 1,
   "metadata": {},
   "outputs": [],
   "source": [
    "import pandas as pd\n",
    "import numpy as np\n",
    "# Read Traffic index by COuntry\n",
    "def read_traffic(path=''):\n",
    "    df = pd.read_csv(path)\n",
    "    return df"
   ]
  },
  {
   "cell_type": "code",
   "execution_count": 5,
   "metadata": {},
   "outputs": [
    {
     "name": "stdout",
     "output_type": "stream",
     "text": [
      "                   country  traffic index  co2 emission index\n",
      "0                  Nigeria         307.47             7925.70\n",
      "1               Costa Rica         300.05             9028.50\n",
      "2                Sri Lanka         272.63             7417.02\n",
      "3                    Kenya         271.87             8106.21\n",
      "4               Bangladesh         258.31             5065.06\n",
      "..                     ...            ...                 ...\n",
      "80  Bosnia And Herzegovina          89.54             2521.34\n",
      "81                 Finland          88.60             1811.54\n",
      "82                 Denmark          88.37             1654.14\n",
      "83                 Estonia          85.39             2118.77\n",
      "84                 Austria          79.85             1637.27\n",
      "\n",
      "[85 rows x 3 columns]\n"
     ]
    },
    {
     "data": {
      "text/plain": [
       "country                object\n",
       "traffic index         float64\n",
       "co2 emission index    float64\n",
       "dtype: object"
      ]
     },
     "execution_count": 5,
     "metadata": {},
     "output_type": "execute_result"
    }
   ],
   "source": [
    "# Read Vehicle density table \n",
    "# Print Attributes and Types\n",
    "df_traffic = read_traffic(path='../vehicle-density/CSV_file_data/vehicle-density.csv')\n",
    "print(df_traffic)\n",
    "df_traffic.dtypes\n"
   ]
  },
  {
   "cell_type": "code",
   "execution_count": null,
   "metadata": {},
   "outputs": [],
   "source": []
  }
 ],
 "metadata": {
  "interpreter": {
   "hash": "aee8b7b246df8f9039afb4144a1f6fd8d2ca17a180786b69acc140d282b71a49"
  },
  "kernelspec": {
   "display_name": "Python 3.9.7 64-bit",
   "language": "python",
   "name": "python3"
  },
  "language_info": {
   "codemirror_mode": {
    "name": "ipython",
    "version": 3
   },
   "file_extension": ".py",
   "mimetype": "text/x-python",
   "name": "python",
   "nbconvert_exporter": "python",
   "pygments_lexer": "ipython3",
   "version": "3.9.7"
  },
  "orig_nbformat": 4
 },
 "nbformat": 4,
 "nbformat_minor": 2
}
