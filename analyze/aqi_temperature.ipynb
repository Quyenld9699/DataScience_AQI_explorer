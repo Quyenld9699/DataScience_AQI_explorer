{
 "cells": [
  {
   "cell_type": "code",
   "execution_count": 10,
   "metadata": {},
   "outputs": [],
   "source": [
    "# Read AQI Data, calculate average AQI in a week\n",
    "# Read Population Data, Area Data, Make density \n",
    "import pandas as pd\n",
    "import numpy as np\n",
    "import matplotlib.pyplot as plt\n"
   ]
  },
  {
   "cell_type": "code",
   "execution_count": 11,
   "metadata": {},
   "outputs": [
    {
     "name": "stdout",
     "output_type": "stream",
     "text": [
      "            city    country   oct   nov   dec\n",
      "0        Algiers    Algeria  15.2  15.2  12.1\n",
      "1    Tamanrasset    Algeria  17.3  17.3  13.9\n",
      "2        Reggane    Algeria  22.0  22.0  17.8\n",
      "3         Luanda     Angola  26.7  26.7  26.9\n",
      "4        Cotonou      Benin  27.6  27.6  27.3\n",
      "..           ...        ...   ...   ...   ...\n",
      "450         Lima       Peru  18.7  18.7  20.7\n",
      "451        Piura       Peru  23.6  23.6  25.2\n",
      "452   Paramaribo   Suriname  27.3  27.3  26.4\n",
      "453   Montevideo    Uruguay  18.6  18.6  21.3\n",
      "454      Caracas  Venezuela  22.0  22.0  20.7\n",
      "\n",
      "[455 rows x 5 columns]\n"
     ]
    },
    {
     "data": {
      "text/plain": [
       "city       0\n",
       "country    0\n",
       "oct        0\n",
       "nov        0\n",
       "dec        0\n",
       "dtype: int64"
      ]
     },
     "execution_count": 11,
     "metadata": {},
     "output_type": "execute_result"
    }
   ],
   "source": [
    "df_temperature = pd.read_csv('../data/temperature.csv')\n",
    "df_temperature = df_temperature[['city','country','oct','nov','dec']]\n",
    "print(df_temperature)\n",
    "# df_temperature.info\n",
    "df_temperature.isna().sum()"
   ]
  },
  {
   "cell_type": "code",
   "execution_count": 12,
   "metadata": {},
   "outputs": [
    {
     "name": "stdout",
     "output_type": "stream",
     "text": [
      "hi hi -\n"
     ]
    }
   ],
   "source": [
    "import re\n",
    "def format_ascii_string(input=''):\n",
    "    output = re.sub(r'[^\\x00-\\x7f]','-', input)\n",
    "    return output\n",
    "\n",
    "print(format_ascii_string(\"hi hi »\"))"
   ]
  },
  {
   "cell_type": "code",
   "execution_count": 13,
   "metadata": {},
   "outputs": [],
   "source": [
    "# Convert Datatype of Temperature to Float\n",
    "df_temperature['dec'] = df_temperature['dec'].map(lambda x: format_ascii_string(x))\n",
    "df_temperature['dec'] = df_temperature['dec'].map(lambda x: float(x))\n",
    "\n",
    "df_temperature['oct'] = df_temperature['oct'].map(lambda x: format_ascii_string(x))\n",
    "df_temperature['oct'] = df_temperature['oct'].map(lambda x: float(x))\n",
    "\n",
    "df_temperature['nov'] = df_temperature['nov'].map(lambda x: format_ascii_string(x))\n",
    "df_temperature['nov'] = df_temperature['nov'].map(lambda x: float(x))"
   ]
  },
  {
   "cell_type": "code",
   "execution_count": 14,
   "metadata": {},
   "outputs": [],
   "source": [
    "from unidecode import unidecode\n",
    "def remove_non_ascii(text):\n",
    "    return unidecode(unidecode(text))\n",
    "    \n",
    "df_temperature['city'] = df_temperature['city'].map(lambda x: remove_non_ascii(x))\n"
   ]
  },
  {
   "cell_type": "code",
   "execution_count": 15,
   "metadata": {},
   "outputs": [
    {
     "name": "stdout",
     "output_type": "stream",
     "text": [
      "            city    country   oct   nov   dec\n",
      "0        Algiers    Algeria  15.2  15.2  12.1\n",
      "1    Tamanrasset    Algeria  17.3  17.3  13.9\n",
      "2        Reggane    Algeria  22.0  22.0  17.8\n",
      "3         Luanda     Angola  26.7  26.7  26.9\n",
      "4        Cotonou      Benin  27.6  27.6  27.3\n",
      "..           ...        ...   ...   ...   ...\n",
      "450         Lima       Peru  18.7  18.7  20.7\n",
      "451        Piura       Peru  23.6  23.6  25.2\n",
      "452   Paramaribo   Suriname  27.3  27.3  26.4\n",
      "453   Montevideo    Uruguay  18.6  18.6  21.3\n",
      "454      Caracas  Venezuela  22.0  22.0  20.7\n",
      "\n",
      "[455 rows x 5 columns]\n",
      "Count Non Value\n",
      "city       0\n",
      "country    0\n",
      "oct        0\n",
      "nov        0\n",
      "dec        0\n",
      "dtype: int64\n",
      "city        object\n",
      "country     object\n",
      "oct        float64\n",
      "nov        float64\n",
      "dec        float64\n",
      "dtype: object\n"
     ]
    },
    {
     "data": {
      "text/plain": [
       "city       0\n",
       "country    0\n",
       "oct        0\n",
       "nov        0\n",
       "dec        0\n",
       "dtype: int64"
      ]
     },
     "execution_count": 15,
     "metadata": {},
     "output_type": "execute_result"
    }
   ],
   "source": [
    "print(df_temperature)\n",
    "print(\"Count Non Value\")\n",
    "print(df_temperature.isna().sum())\n",
    "print(df_temperature.dtypes)\n",
    "df_temperature.isna().sum()\n"
   ]
  },
  {
   "cell_type": "code",
   "execution_count": 16,
   "metadata": {},
   "outputs": [
    {
     "data": {
      "text/html": [
       "<div>\n",
       "<style scoped>\n",
       "    .dataframe tbody tr th:only-of-type {\n",
       "        vertical-align: middle;\n",
       "    }\n",
       "\n",
       "    .dataframe tbody tr th {\n",
       "        vertical-align: top;\n",
       "    }\n",
       "\n",
       "    .dataframe thead th {\n",
       "        text-align: right;\n",
       "    }\n",
       "</style>\n",
       "<table border=\"1\" class=\"dataframe\">\n",
       "  <thead>\n",
       "    <tr style=\"text-align: right;\">\n",
       "      <th></th>\n",
       "      <th>AQI</th>\n",
       "    </tr>\n",
       "    <tr>\n",
       "      <th>city</th>\n",
       "      <th></th>\n",
       "    </tr>\n",
       "  </thead>\n",
       "  <tbody>\n",
       "    <tr>\n",
       "      <th>Abeokuta</th>\n",
       "      <td>71.500000</td>\n",
       "    </tr>\n",
       "    <tr>\n",
       "      <th>Abidjan</th>\n",
       "      <td>64.583333</td>\n",
       "    </tr>\n",
       "    <tr>\n",
       "      <th>Abu Dhabi</th>\n",
       "      <td>84.512658</td>\n",
       "    </tr>\n",
       "    <tr>\n",
       "      <th>Abuja</th>\n",
       "      <td>88.750000</td>\n",
       "    </tr>\n",
       "    <tr>\n",
       "      <th>Acapulco de Juarez</th>\n",
       "      <td>70.546053</td>\n",
       "    </tr>\n",
       "    <tr>\n",
       "      <th>...</th>\n",
       "      <td>...</td>\n",
       "    </tr>\n",
       "    <tr>\n",
       "      <th>Zhaoqing</th>\n",
       "      <td>94.105263</td>\n",
       "    </tr>\n",
       "    <tr>\n",
       "      <th>Zhengzhou</th>\n",
       "      <td>166.096386</td>\n",
       "    </tr>\n",
       "    <tr>\n",
       "      <th>Zhenjiang Jiangsu</th>\n",
       "      <td>163.550633</td>\n",
       "    </tr>\n",
       "    <tr>\n",
       "      <th>Zhoushan</th>\n",
       "      <td>52.955696</td>\n",
       "    </tr>\n",
       "    <tr>\n",
       "      <th>Zurich</th>\n",
       "      <td>23.817610</td>\n",
       "    </tr>\n",
       "  </tbody>\n",
       "</table>\n",
       "<p>711 rows × 1 columns</p>\n",
       "</div>"
      ],
      "text/plain": [
       "                           AQI\n",
       "city                          \n",
       "Abeokuta             71.500000\n",
       "Abidjan              64.583333\n",
       "Abu Dhabi            84.512658\n",
       "Abuja                88.750000\n",
       "Acapulco de Juarez   70.546053\n",
       "...                        ...\n",
       "Zhaoqing             94.105263\n",
       "Zhengzhou           166.096386\n",
       "Zhenjiang Jiangsu   163.550633\n",
       "Zhoushan             52.955696\n",
       "Zurich               23.817610\n",
       "\n",
       "[711 rows x 1 columns]"
      ]
     },
     "execution_count": 16,
     "metadata": {},
     "output_type": "execute_result"
    }
   ],
   "source": [
    "# Read AQI\n",
    "def average_AQI(file=''):\n",
    "    df = pd.read_csv(file)\n",
    "    # df = df[['city','AQI']]\n",
    "    df_result = df.groupby('city').mean()\n",
    "    return df_result\n",
    "\n",
    "df_aqi = average_AQI('../ProcessedAQI/Final/aqi.csv')\n",
    "df_aqi_1 = df_aqi[['AQI']]\n",
    "df_aqi_1"
   ]
  },
  {
   "cell_type": "code",
   "execution_count": 17,
   "metadata": {},
   "outputs": [
    {
     "data": {
      "text/html": [
       "<div>\n",
       "<style scoped>\n",
       "    .dataframe tbody tr th:only-of-type {\n",
       "        vertical-align: middle;\n",
       "    }\n",
       "\n",
       "    .dataframe tbody tr th {\n",
       "        vertical-align: top;\n",
       "    }\n",
       "\n",
       "    .dataframe thead th {\n",
       "        text-align: right;\n",
       "    }\n",
       "</style>\n",
       "<table border=\"1\" class=\"dataframe\">\n",
       "  <thead>\n",
       "    <tr style=\"text-align: right;\">\n",
       "      <th></th>\n",
       "      <th>city</th>\n",
       "      <th>AQI</th>\n",
       "      <th>city</th>\n",
       "      <th>country</th>\n",
       "      <th>oct</th>\n",
       "      <th>nov</th>\n",
       "      <th>dec</th>\n",
       "    </tr>\n",
       "  </thead>\n",
       "  <tbody>\n",
       "    <tr>\n",
       "      <th>0</th>\n",
       "      <td>Algiers</td>\n",
       "      <td>78.250000</td>\n",
       "      <td>Algiers</td>\n",
       "      <td>Algeria</td>\n",
       "      <td>15.2</td>\n",
       "      <td>15.2</td>\n",
       "      <td>12.1</td>\n",
       "    </tr>\n",
       "    <tr>\n",
       "      <th>1</th>\n",
       "      <td>Luanda</td>\n",
       "      <td>134.000000</td>\n",
       "      <td>Luanda</td>\n",
       "      <td>Angola</td>\n",
       "      <td>26.7</td>\n",
       "      <td>26.7</td>\n",
       "      <td>26.9</td>\n",
       "    </tr>\n",
       "    <tr>\n",
       "      <th>2</th>\n",
       "      <td>Cotonou</td>\n",
       "      <td>75.235294</td>\n",
       "      <td>Cotonou</td>\n",
       "      <td>Benin</td>\n",
       "      <td>27.6</td>\n",
       "      <td>27.6</td>\n",
       "      <td>27.3</td>\n",
       "    </tr>\n",
       "    <tr>\n",
       "      <th>3</th>\n",
       "      <td>Ouagadougou</td>\n",
       "      <td>126.222222</td>\n",
       "      <td>Ouagadougou</td>\n",
       "      <td>Burkina Faso</td>\n",
       "      <td>27.7</td>\n",
       "      <td>27.7</td>\n",
       "      <td>25.1</td>\n",
       "    </tr>\n",
       "    <tr>\n",
       "      <th>4</th>\n",
       "      <td>Bujumbura</td>\n",
       "      <td>53.200000</td>\n",
       "      <td>Bujumbura</td>\n",
       "      <td>Burundi</td>\n",
       "      <td>23.4</td>\n",
       "      <td>23.4</td>\n",
       "      <td>23.6</td>\n",
       "    </tr>\n",
       "    <tr>\n",
       "      <th>...</th>\n",
       "      <td>...</td>\n",
       "      <td>...</td>\n",
       "      <td>...</td>\n",
       "      <td>...</td>\n",
       "      <td>...</td>\n",
       "      <td>...</td>\n",
       "      <td>...</td>\n",
       "    </tr>\n",
       "    <tr>\n",
       "      <th>232</th>\n",
       "      <td>Quito</td>\n",
       "      <td>40.662651</td>\n",
       "      <td>Quito</td>\n",
       "      <td>Ecuador</td>\n",
       "      <td>14.3</td>\n",
       "      <td>14.3</td>\n",
       "      <td>14.4</td>\n",
       "    </tr>\n",
       "    <tr>\n",
       "      <th>233</th>\n",
       "      <td>Asuncion</td>\n",
       "      <td>99.733333</td>\n",
       "      <td>Asuncion</td>\n",
       "      <td>Paraguay</td>\n",
       "      <td>24.9</td>\n",
       "      <td>24.9</td>\n",
       "      <td>26.5</td>\n",
       "    </tr>\n",
       "    <tr>\n",
       "      <th>234</th>\n",
       "      <td>Lima</td>\n",
       "      <td>74.909639</td>\n",
       "      <td>Lima</td>\n",
       "      <td>Peru</td>\n",
       "      <td>18.7</td>\n",
       "      <td>18.7</td>\n",
       "      <td>20.7</td>\n",
       "    </tr>\n",
       "    <tr>\n",
       "      <th>235</th>\n",
       "      <td>Montevideo</td>\n",
       "      <td>104.000000</td>\n",
       "      <td>Montevideo</td>\n",
       "      <td>Uruguay</td>\n",
       "      <td>18.6</td>\n",
       "      <td>18.6</td>\n",
       "      <td>21.3</td>\n",
       "    </tr>\n",
       "    <tr>\n",
       "      <th>236</th>\n",
       "      <td>Caracas</td>\n",
       "      <td>32.024096</td>\n",
       "      <td>Caracas</td>\n",
       "      <td>Venezuela</td>\n",
       "      <td>22.0</td>\n",
       "      <td>22.0</td>\n",
       "      <td>20.7</td>\n",
       "    </tr>\n",
       "  </tbody>\n",
       "</table>\n",
       "<p>237 rows × 7 columns</p>\n",
       "</div>"
      ],
      "text/plain": [
       "            city         AQI         city       country   oct   nov   dec\n",
       "0        Algiers   78.250000      Algiers       Algeria  15.2  15.2  12.1\n",
       "1         Luanda  134.000000       Luanda        Angola  26.7  26.7  26.9\n",
       "2        Cotonou   75.235294      Cotonou         Benin  27.6  27.6  27.3\n",
       "3    Ouagadougou  126.222222  Ouagadougou  Burkina Faso  27.7  27.7  25.1\n",
       "4      Bujumbura   53.200000    Bujumbura       Burundi  23.4  23.4  23.6\n",
       "..           ...         ...          ...           ...   ...   ...   ...\n",
       "232        Quito   40.662651        Quito       Ecuador  14.3  14.3  14.4\n",
       "233     Asuncion   99.733333     Asuncion      Paraguay  24.9  24.9  26.5\n",
       "234         Lima   74.909639         Lima          Peru  18.7  18.7  20.7\n",
       "235   Montevideo  104.000000   Montevideo       Uruguay  18.6  18.6  21.3\n",
       "236      Caracas   32.024096      Caracas     Venezuela  22.0  22.0  20.7\n",
       "\n",
       "[237 rows x 7 columns]"
      ]
     },
     "execution_count": 17,
     "metadata": {},
     "output_type": "execute_result"
    }
   ],
   "source": [
    "import pandasql as ps\n",
    "sql = 'SELECT * from df_aqi_1 JOIN df_temperature ON df_aqi_1.city = df_temperature.city'\n",
    "df_result = ps.sqldf(sql,locals())\n",
    "df_result"
   ]
  },
  {
   "cell_type": "code",
   "execution_count": 18,
   "metadata": {},
   "outputs": [
    {
     "data": {
      "image/png": "[encoded data removed]",
      "text/plain": [
       "<Figure size 432x288 with 1 Axes>"
      ]
     },
     "metadata": {
      "needs_background": "light"
     },
     "output_type": "display_data"
    }
   ],
   "source": [
    "import matplotlib.pyplot as plt \n",
    "\n",
    "y = df_result['AQI'].tolist()\n",
    "x = df_result['dec'].tolist()\n",
    "plt.scatter(x,y)\n",
    "plt.xlabel('Temperature October')\n",
    "plt.ylabel('AQI')\n",
    "\n",
    "plt.show()"
   ]
  }
 ],
 "metadata": {
  "interpreter": {
   "hash": "aee8b7b246df8f9039afb4144a1f6fd8d2ca17a180786b69acc140d282b71a49"
  },
  "kernelspec": {
   "display_name": "Python 3.9.7 64-bit",
   "language": "python",
   "name": "python3"
  },
  "language_info": {
   "codemirror_mode": {
    "name": "ipython",
    "version": 3
   },
   "file_extension": ".py",
   "mimetype": "text/x-python",
   "name": "python",
   "nbconvert_exporter": "python",
   "pygments_lexer": "ipython3",
   "version": "3.9.7"
  },
  "orig_nbformat": 4
 },
 "nbformat": 4,
 "nbformat_minor": 2
}
