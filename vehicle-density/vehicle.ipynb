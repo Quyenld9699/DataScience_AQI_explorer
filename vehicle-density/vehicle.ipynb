{
 "cells": [
  {
   "cell_type": "code",
   "execution_count": 22,
   "metadata": {},
   "outputs": [],
   "source": [
    "import math\n",
    "import csv\n",
    "import time\n",
    "import requests\n",
    "\n",
    "from bs4 import BeautifulSoup\n",
    "\n",
    "from selenium import webdriver\n",
    "from selenium.webdriver import ActionChains\n",
    "from selenium.webdriver.common.keys import Keys\n",
    "from selenium.webdriver.common.by import By\n",
    "from selenium.webdriver.support.ui import WebDriverWait\n",
    "from selenium.webdriver.chrome.service import Service\n",
    "from selenium.webdriver.support import expected_conditions as EC\n",
    "from webdriver_manager.chrome import ChromeDriverManager\n"
   ]
  },
  {
   "cell_type": "code",
   "execution_count": 23,
   "metadata": {},
   "outputs": [
    {
     "data": {
      "text/plain": [
       "<tr>\n",
       "<th><div style=\"font-size: 80%; vertical-align: middle;\">Rank</div></th>\n",
       "<th>Country</th>\n",
       "<th><div style=\"font-size: 90%;\">Traffic Index</div></th>\n",
       "<th><div style=\"font-size: 90%;\">Time Index<br/>(in minutes)</div></th>\n",
       "<th><div style=\"font-size: 90%;\">Time Exp. Index</div></th>\n",
       "<th><div style=\"font-size: 90%;\">Inefficiency Index</div></th>\n",
       "<th><div style=\"font-size: 90%;\">CO<sub>2</sub> Emission Index</div></th>\n",
       "</tr>"
      ]
     },
     "execution_count": 23,
     "metadata": {},
     "output_type": "execute_result"
    }
   ],
   "source": [
    "urlpage = \"https://www.numbeo.com/traffic/rankings_by_country.jsp\"\n",
    "response = requests.get(urlpage)\n",
    "soup = BeautifulSoup(response.content, \"html.parser\")\n",
    "\n",
    "listS = soup.find('table', id='t2')  # tìm thẻ div có class là gnt_ar_b\n",
    "# print(listS)\n",
    "# raw_data = listS.find_all(\"td\", {\"class\": \"cityOrCountryInIndicesTable\"})\n",
    "listTr = listS.find_all(\"tr\")\n",
    "listTr.pop(0)\n",
    "\n",
    "\n"
   ]
  },
  {
   "cell_type": "code",
   "execution_count": 24,
   "metadata": {},
   "outputs": [
    {
     "data": {
      "text/plain": [
       "42"
      ]
     },
     "execution_count": 24,
     "metadata": {},
     "output_type": "execute_result"
    }
   ],
   "source": [
    "new_file_name = \"./CSV_file_data/\" + \"vehicle-density\" + \".csv\"\n",
    "file_data = csv.writer(open(new_file_name, \"w\", encoding='utf-8'))\n",
    "\n",
    "column = [\"country\", \"traffic index\", \"co2 emission index\"]\n",
    "file_data.writerow(column)\n",
    "\n"
   ]
  },
  {
   "cell_type": "code",
   "execution_count": 25,
   "metadata": {},
   "outputs": [],
   "source": [
    "for tr in listTr:\n",
    "    listTd = tr.find_all('td')\n",
    "    file_data.writerow([listTd[1].text, listTd[2].text, listTd[6].text])"
   ]
  }
 ],
 "metadata": {
  "interpreter": {
   "hash": "31f2aee4e71d21fbe5cf8b01ff0e069b9275f58929596ceb00d14d90e3e16cd6"
  },
  "kernelspec": {
   "display_name": "Python 3.8.10 64-bit",
   "language": "python",
   "name": "python3"
  },
  "language_info": {
   "codemirror_mode": {
    "name": "ipython",
    "version": 3
   },
   "file_extension": ".py",
   "mimetype": "text/x-python",
   "name": "python",
   "nbconvert_exporter": "python",
   "pygments_lexer": "ipython3",
   "version": "3.8.10"
  },
  "orig_nbformat": 4
 },
 "nbformat": 4,
 "nbformat_minor": 2
}
